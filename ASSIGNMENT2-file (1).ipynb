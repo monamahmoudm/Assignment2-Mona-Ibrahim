{
 "cells": [
  {
   "cell_type": "markdown",
   "id": "15c751e9",
   "metadata": {},
   "source": [
    "Assignment 2 by Mona Ibrahim 900212749"
   ]
  },
  {
   "cell_type": "markdown",
   "id": "c03c26a1",
   "metadata": {},
   "source": [
    "Part 1"
   ]
  },
  {
   "cell_type": "markdown",
   "id": "53ffab5f",
   "metadata": {},
   "source": [
    "Abstract: In this part I will analyze the following: probability of winning/losing when playing away from home according to continent. I compared teams from 2 continents: Europe and Africa. Countries from Europe are: Scotland, Hungary, Wales and Greece. Countries from Africa are: Cameroon, Egypt, Senegal, and Ghana. After computing the probability of winning of each country and their confidence intervals then comparing them, I concluded that teams from Europe have higher chances of winning when playing away from home than teams from Africa. Because Europeans can travel easily across borders in Europe and so European players are more used to travelling and more comfortable in different countries. Europeans have mobility accross Europe and can use the train any time to easily travel from country to country. On the other hand, in Africa there are stronger restrictions across borders and each country is isolated from the ones beside it therefore, Africans need to take extra steps to be able to travel across Africa. Africans travel less frequently across Africa due to the restrictions and not having many options of means of transportation (like trains across countries, etc..) therefore they are not used to other countries and travelling might make them uncomfortable. Another reason why European teams have higher chances of winning might be because european countries have similar footbll pitch sizes and so players are used to the dimensions of their court and know it well while across Africa football pitch size might vary."
   ]
  },
  {
   "cell_type": "markdown",
   "id": "068f5321",
   "metadata": {},
   "source": [
    "Question 1: Probability of winning/losing between countries from Europe (Scotland, Wales, Greece, Hungary) and countries from Africa(Cameroon, Egypt, Senegal, Ghana) according to away_team"
   ]
  },
  {
   "cell_type": "markdown",
   "id": "3b6effc3",
   "metadata": {},
   "source": [
    "Statistical Analysis of Football Matches Over the World and Comparing the Winning Countries based on playing away from home land."
   ]
  },
  {
   "cell_type": "code",
   "execution_count": 1,
   "id": "bfff81cd",
   "metadata": {},
   "outputs": [],
   "source": [
    "import pandas as pd"
   ]
  },
  {
   "cell_type": "code",
   "execution_count": 2,
   "id": "be6efc75",
   "metadata": {},
   "outputs": [],
   "source": [
    "df=pd.read_csv('C:/Users/Mona/Desktop/results.csv')"
   ]
  },
  {
   "cell_type": "code",
   "execution_count": 3,
   "id": "dec93079",
   "metadata": {},
   "outputs": [],
   "source": [
    "x=df['home_score']-df['away_score']"
   ]
  },
  {
   "cell_type": "code",
   "execution_count": 4,
   "id": "fca1e2bc",
   "metadata": {},
   "outputs": [],
   "source": [
    "conditions=[(x>0),(x<0),(x==0)]"
   ]
  },
  {
   "cell_type": "code",
   "execution_count": 5,
   "id": "172a698c",
   "metadata": {},
   "outputs": [],
   "source": [
    "values=['win','lose','draw']"
   ]
  },
  {
   "cell_type": "code",
   "execution_count": 6,
   "id": "b399273c",
   "metadata": {},
   "outputs": [],
   "source": [
    "import numpy as np"
   ]
  },
  {
   "cell_type": "code",
   "execution_count": 7,
   "id": "e57a052f",
   "metadata": {},
   "outputs": [],
   "source": [
    "df['result']=np.select(conditions,values)"
   ]
  },
  {
   "cell_type": "code",
   "execution_count": 8,
   "id": "582ddf16",
   "metadata": {},
   "outputs": [
    {
     "data": {
      "text/plain": [
       "win     0.486455\n",
       "lose    0.283042\n",
       "draw    0.230504\n",
       "Name: result, dtype: float64"
      ]
     },
     "execution_count": 8,
     "metadata": {},
     "output_type": "execute_result"
    }
   ],
   "source": [
    "df['result'].value_counts(normalize=True)"
   ]
  },
  {
   "cell_type": "code",
   "execution_count": 9,
   "id": "2ae5f22a",
   "metadata": {},
   "outputs": [],
   "source": [
    "x=df['result'].value_counts()"
   ]
  },
  {
   "cell_type": "code",
   "execution_count": 10,
   "id": "7b5f0485",
   "metadata": {},
   "outputs": [],
   "source": [
    "x=np.array(x)"
   ]
  },
  {
   "cell_type": "code",
   "execution_count": 11,
   "id": "8a89246a",
   "metadata": {},
   "outputs": [],
   "source": [
    "N=x.sum()"
   ]
  },
  {
   "cell_type": "code",
   "execution_count": 12,
   "id": "84b45276",
   "metadata": {},
   "outputs": [],
   "source": [
    "import statsmodels.api as sm\n",
    "from statsmodels.stats.proportion import proportion_confint"
   ]
  },
  {
   "cell_type": "code",
   "execution_count": 13,
   "id": "c3fe8c80",
   "metadata": {},
   "outputs": [],
   "source": [
    "CI_win=proportion_confint(count=x[1],nobs=N,alpha=(1-.95))"
   ]
  },
  {
   "cell_type": "code",
   "execution_count": 14,
   "id": "f279b229",
   "metadata": {},
   "outputs": [
    {
     "data": {
      "text/plain": [
       "(0.27879305599044235, 0.28729011526083115)"
      ]
     },
     "execution_count": 14,
     "metadata": {},
     "output_type": "execute_result"
    }
   ],
   "source": [
    "CI_win"
   ]
  },
  {
   "cell_type": "code",
   "execution_count": 15,
   "id": "0b8a1592",
   "metadata": {},
   "outputs": [],
   "source": [
    "CI_lose=proportion_confint(count=x[0],nobs=N,alpha=(1-.95))"
   ]
  },
  {
   "cell_type": "code",
   "execution_count": 16,
   "id": "d85a8388",
   "metadata": {},
   "outputs": [
    {
     "data": {
      "text/plain": [
       "(0.481740705905987, 0.49116843552218753)"
      ]
     },
     "execution_count": 16,
     "metadata": {},
     "output_type": "execute_result"
    }
   ],
   "source": [
    "CI_lose"
   ]
  },
  {
   "cell_type": "code",
   "execution_count": 17,
   "id": "b5849283",
   "metadata": {},
   "outputs": [],
   "source": [
    "CI_draw=proportion_confint(count=x[2],nobs=N,alpha=(1-.95))"
   ]
  },
  {
   "cell_type": "code",
   "execution_count": 18,
   "id": "e0b83214",
   "metadata": {},
   "outputs": [
    {
     "data": {
      "text/plain": [
       "(0.2265318471530234, 0.23447584016752862)"
      ]
     },
     "execution_count": 18,
     "metadata": {},
     "output_type": "execute_result"
    }
   ],
   "source": [
    "CI_draw"
   ]
  },
  {
   "cell_type": "code",
   "execution_count": 19,
   "id": "8f32fe40",
   "metadata": {},
   "outputs": [],
   "source": [
    "df_sco=df[df['away_team']=='Scotland']"
   ]
  },
  {
   "cell_type": "code",
   "execution_count": 20,
   "id": "9916b230",
   "metadata": {},
   "outputs": [
    {
     "data": {
      "text/plain": [
       "win     0.392252\n",
       "lose    0.389831\n",
       "draw    0.217918\n",
       "Name: result, dtype: float64"
      ]
     },
     "execution_count": 20,
     "metadata": {},
     "output_type": "execute_result"
    }
   ],
   "source": [
    "df_sco['result'].value_counts(normalize=True)"
   ]
  },
  {
   "cell_type": "code",
   "execution_count": 21,
   "id": "a151661f",
   "metadata": {},
   "outputs": [],
   "source": [
    "df_wal=df[df['away_team']=='Wales']"
   ]
  },
  {
   "cell_type": "code",
   "execution_count": 22,
   "id": "58d9e0c2",
   "metadata": {},
   "outputs": [
    {
     "data": {
      "text/plain": [
       "win     0.553314\n",
       "lose    0.259366\n",
       "draw    0.187320\n",
       "Name: result, dtype: float64"
      ]
     },
     "execution_count": 22,
     "metadata": {},
     "output_type": "execute_result"
    }
   ],
   "source": [
    "df_wal['result'].value_counts(normalize=True)"
   ]
  },
  {
   "cell_type": "code",
   "execution_count": 23,
   "id": "feb47c4f",
   "metadata": {},
   "outputs": [],
   "source": [
    "df_hug=df[df['away_team']=='Hungary']"
   ]
  },
  {
   "cell_type": "code",
   "execution_count": 24,
   "id": "035ee1b4",
   "metadata": {},
   "outputs": [
    {
     "data": {
      "text/plain": [
       "win     0.403292\n",
       "lose    0.378601\n",
       "draw    0.218107\n",
       "Name: result, dtype: float64"
      ]
     },
     "execution_count": 24,
     "metadata": {},
     "output_type": "execute_result"
    }
   ],
   "source": [
    "df_hug['result'].value_counts(normalize=True)"
   ]
  },
  {
   "cell_type": "code",
   "execution_count": 25,
   "id": "0a774eec",
   "metadata": {},
   "outputs": [],
   "source": [
    "df_gre=df[df['away_team']=='Greece']"
   ]
  },
  {
   "cell_type": "code",
   "execution_count": 26,
   "id": "062f1e9d",
   "metadata": {},
   "outputs": [
    {
     "data": {
      "text/plain": [
       "win     0.440559\n",
       "lose    0.283217\n",
       "draw    0.276224\n",
       "Name: result, dtype: float64"
      ]
     },
     "execution_count": 26,
     "metadata": {},
     "output_type": "execute_result"
    }
   ],
   "source": [
    "df_gre['result'].value_counts(normalize=True)"
   ]
  },
  {
   "cell_type": "code",
   "execution_count": 27,
   "id": "5d2f356a",
   "metadata": {},
   "outputs": [],
   "source": [
    "df_egy=df[df['away_team']=='Egypt']"
   ]
  },
  {
   "cell_type": "code",
   "execution_count": 28,
   "id": "e866bec2",
   "metadata": {},
   "outputs": [
    {
     "data": {
      "text/plain": [
       "draw    0.365672\n",
       "win     0.354478\n",
       "lose    0.279851\n",
       "Name: result, dtype: float64"
      ]
     },
     "execution_count": 28,
     "metadata": {},
     "output_type": "execute_result"
    }
   ],
   "source": [
    "df_egy['result'].value_counts(normalize=True)"
   ]
  },
  {
   "cell_type": "code",
   "execution_count": 29,
   "id": "4038f1c6",
   "metadata": {},
   "outputs": [],
   "source": [
    "df_sen=df[df['away_team']=='Senegal']"
   ]
  },
  {
   "cell_type": "code",
   "execution_count": 30,
   "id": "70b58c9b",
   "metadata": {},
   "outputs": [
    {
     "data": {
      "text/plain": [
       "win     0.374214\n",
       "lose    0.336478\n",
       "draw    0.289308\n",
       "Name: result, dtype: float64"
      ]
     },
     "execution_count": 30,
     "metadata": {},
     "output_type": "execute_result"
    }
   ],
   "source": [
    "df_sen['result'].value_counts(normalize=True)"
   ]
  },
  {
   "cell_type": "code",
   "execution_count": 31,
   "id": "0224daac",
   "metadata": {},
   "outputs": [],
   "source": [
    "df_cam=df[df['away_team']=='Cameroon']"
   ]
  },
  {
   "cell_type": "code",
   "execution_count": 32,
   "id": "39602fd5",
   "metadata": {},
   "outputs": [
    {
     "data": {
      "text/plain": [
       "draw    0.368421\n",
       "win     0.326316\n",
       "lose    0.305263\n",
       "Name: result, dtype: float64"
      ]
     },
     "execution_count": 32,
     "metadata": {},
     "output_type": "execute_result"
    }
   ],
   "source": [
    "df_cam['result'].value_counts(normalize=True)"
   ]
  },
  {
   "cell_type": "code",
   "execution_count": 33,
   "id": "84724b08",
   "metadata": {},
   "outputs": [],
   "source": [
    "df_gha=df[df['away_team']=='Ghana']"
   ]
  },
  {
   "cell_type": "code",
   "execution_count": 34,
   "id": "72b846b7",
   "metadata": {},
   "outputs": [
    {
     "data": {
      "text/plain": [
       "win     0.373457\n",
       "lose    0.345679\n",
       "draw    0.280864\n",
       "Name: result, dtype: float64"
      ]
     },
     "execution_count": 34,
     "metadata": {},
     "output_type": "execute_result"
    }
   ],
   "source": [
    "df_gha['result'].value_counts(normalize=True)"
   ]
  },
  {
   "cell_type": "markdown",
   "id": "b143231c",
   "metadata": {},
   "source": [
    "It is observed that countries from Africa have lower probabilities of winning than countries from Europe. "
   ]
  },
  {
   "cell_type": "markdown",
   "id": "b011c21c",
   "metadata": {},
   "source": [
    "Question 2: Comparing the confidence intervals"
   ]
  },
  {
   "cell_type": "code",
   "execution_count": 35,
   "id": "09e964a6",
   "metadata": {},
   "outputs": [],
   "source": [
    "m=df_hug['result'].value_counts()"
   ]
  },
  {
   "cell_type": "code",
   "execution_count": 36,
   "id": "8e41c573",
   "metadata": {},
   "outputs": [],
   "source": [
    "m=np.array(m)"
   ]
  },
  {
   "cell_type": "code",
   "execution_count": 37,
   "id": "c9fef7d3",
   "metadata": {},
   "outputs": [],
   "source": [
    "N=m.sum()"
   ]
  },
  {
   "cell_type": "code",
   "execution_count": 38,
   "id": "8de016c0",
   "metadata": {},
   "outputs": [],
   "source": [
    "import statsmodels.api as sm\n",
    "from statsmodels.stats.proportion import proportion_confint"
   ]
  },
  {
   "cell_type": "code",
   "execution_count": 39,
   "id": "c656dd19",
   "metadata": {},
   "outputs": [],
   "source": [
    "CI_hugwin=proportion_confint(count=m[0],nobs=N,alpha=(1-.95))"
   ]
  },
  {
   "cell_type": "code",
   "execution_count": 40,
   "id": "60e2ea9c",
   "metadata": {},
   "outputs": [
    {
     "data": {
      "text/plain": [
       "(0.35967870302412785, 0.44690565911578983)"
      ]
     },
     "execution_count": 40,
     "metadata": {},
     "output_type": "execute_result"
    }
   ],
   "source": [
    "CI_hugwin"
   ]
  },
  {
   "cell_type": "code",
   "execution_count": 41,
   "id": "b2cb2dbc",
   "metadata": {},
   "outputs": [],
   "source": [
    "s=df_sco['result'].value_counts()"
   ]
  },
  {
   "cell_type": "code",
   "execution_count": 42,
   "id": "69ffb2d3",
   "metadata": {},
   "outputs": [],
   "source": [
    "s=np.array(s)"
   ]
  },
  {
   "cell_type": "code",
   "execution_count": 43,
   "id": "7b31655b",
   "metadata": {},
   "outputs": [],
   "source": [
    "N=s.sum()"
   ]
  },
  {
   "cell_type": "code",
   "execution_count": 44,
   "id": "268658ed",
   "metadata": {},
   "outputs": [],
   "source": [
    "CI_scowin=proportion_confint(count=s[0],nobs=N,alpha=(1-.95))"
   ]
  },
  {
   "cell_type": "code",
   "execution_count": 45,
   "id": "b438bba4",
   "metadata": {},
   "outputs": [
    {
     "data": {
      "text/plain": [
       "(0.3451630421738484, 0.43934058978741064)"
      ]
     },
     "execution_count": 45,
     "metadata": {},
     "output_type": "execute_result"
    }
   ],
   "source": [
    "CI_scowin"
   ]
  },
  {
   "cell_type": "code",
   "execution_count": 46,
   "id": "ec221889",
   "metadata": {},
   "outputs": [],
   "source": [
    "e=df_wal['result'].value_counts()"
   ]
  },
  {
   "cell_type": "code",
   "execution_count": 47,
   "id": "c5ad710f",
   "metadata": {},
   "outputs": [],
   "source": [
    "e=np.array(e)"
   ]
  },
  {
   "cell_type": "code",
   "execution_count": 48,
   "id": "20373dd3",
   "metadata": {},
   "outputs": [],
   "source": [
    "N=e.sum()"
   ]
  },
  {
   "cell_type": "code",
   "execution_count": 49,
   "id": "99728382",
   "metadata": {},
   "outputs": [],
   "source": [
    "CI_walwin=proportion_confint(count=e[0],nobs=N,alpha=(1-.95))"
   ]
  },
  {
   "cell_type": "code",
   "execution_count": 50,
   "id": "5d48a937",
   "metadata": {},
   "outputs": [
    {
     "data": {
      "text/plain": [
       "(0.5010058527840885, 0.6056223892908396)"
      ]
     },
     "execution_count": 50,
     "metadata": {},
     "output_type": "execute_result"
    }
   ],
   "source": [
    "CI_walwin"
   ]
  },
  {
   "cell_type": "code",
   "execution_count": 51,
   "id": "10743f6f",
   "metadata": {},
   "outputs": [],
   "source": [
    "r=df_gre['result'].value_counts()"
   ]
  },
  {
   "cell_type": "code",
   "execution_count": 52,
   "id": "9380a6c6",
   "metadata": {},
   "outputs": [],
   "source": [
    "r=np.array(r)"
   ]
  },
  {
   "cell_type": "code",
   "execution_count": 53,
   "id": "4116a361",
   "metadata": {},
   "outputs": [],
   "source": [
    "N=r.sum()"
   ]
  },
  {
   "cell_type": "code",
   "execution_count": 54,
   "id": "70a942a0",
   "metadata": {},
   "outputs": [],
   "source": [
    "CI_grewin=proportion_confint(count=r[0],nobs=N,alpha=(1-.95))"
   ]
  },
  {
   "cell_type": "code",
   "execution_count": 55,
   "id": "ea503db9",
   "metadata": {},
   "outputs": [
    {
     "data": {
      "text/plain": [
       "(0.38302282590857506, 0.4980960552103061)"
      ]
     },
     "execution_count": 55,
     "metadata": {},
     "output_type": "execute_result"
    }
   ],
   "source": [
    "CI_grewin"
   ]
  },
  {
   "cell_type": "code",
   "execution_count": 56,
   "id": "71a79a2f",
   "metadata": {},
   "outputs": [],
   "source": [
    "y=df_egy['result'].value_counts()"
   ]
  },
  {
   "cell_type": "code",
   "execution_count": 57,
   "id": "df3df6e6",
   "metadata": {},
   "outputs": [],
   "source": [
    "y=np.array(y)"
   ]
  },
  {
   "cell_type": "code",
   "execution_count": 58,
   "id": "4df7031a",
   "metadata": {},
   "outputs": [],
   "source": [
    "N=y.sum()"
   ]
  },
  {
   "cell_type": "code",
   "execution_count": 59,
   "id": "8087a8d1",
   "metadata": {},
   "outputs": [],
   "source": [
    "CI_egywin=proportion_confint(count=y[1],nobs=N,alpha=(1-.95))"
   ]
  },
  {
   "cell_type": "code",
   "execution_count": 60,
   "id": "05346499",
   "metadata": {},
   "outputs": [
    {
     "data": {
      "text/plain": [
       "(0.29720714102443774, 0.4117480828561593)"
      ]
     },
     "execution_count": 60,
     "metadata": {},
     "output_type": "execute_result"
    }
   ],
   "source": [
    "CI_egywin"
   ]
  },
  {
   "cell_type": "code",
   "execution_count": 61,
   "id": "942a7151",
   "metadata": {},
   "outputs": [],
   "source": [
    "n=df_sen['result'].value_counts()"
   ]
  },
  {
   "cell_type": "code",
   "execution_count": 62,
   "id": "6b650aa3",
   "metadata": {},
   "outputs": [],
   "source": [
    "n=np.array(n)"
   ]
  },
  {
   "cell_type": "code",
   "execution_count": 63,
   "id": "394c47d7",
   "metadata": {},
   "outputs": [],
   "source": [
    "N=n.sum()"
   ]
  },
  {
   "cell_type": "code",
   "execution_count": 64,
   "id": "b74ccc39",
   "metadata": {},
   "outputs": [],
   "source": [
    "CI_senwin=proportion_confint(count=n[0],nobs=N,alpha=(1-.95))"
   ]
  },
  {
   "cell_type": "code",
   "execution_count": 65,
   "id": "0fe96664",
   "metadata": {},
   "outputs": [
    {
     "data": {
      "text/plain": [
       "(0.32102659947701373, 0.42740107347896106)"
      ]
     },
     "execution_count": 65,
     "metadata": {},
     "output_type": "execute_result"
    }
   ],
   "source": [
    "CI_senwin"
   ]
  },
  {
   "cell_type": "code",
   "execution_count": 66,
   "id": "734e32b9",
   "metadata": {},
   "outputs": [],
   "source": [
    "c=df_cam['result'].value_counts()"
   ]
  },
  {
   "cell_type": "code",
   "execution_count": 67,
   "id": "a41899a1",
   "metadata": {},
   "outputs": [],
   "source": [
    "c=np.array(c)"
   ]
  },
  {
   "cell_type": "code",
   "execution_count": 68,
   "id": "fa2dc4df",
   "metadata": {},
   "outputs": [],
   "source": [
    "N=c.sum()"
   ]
  },
  {
   "cell_type": "code",
   "execution_count": 69,
   "id": "b1f6914a",
   "metadata": {},
   "outputs": [],
   "source": [
    "CI_camwin=proportion_confint(count=c[1],nobs=N,alpha=(1-.95))"
   ]
  },
  {
   "cell_type": "code",
   "execution_count": 70,
   "id": "0d112ae5",
   "metadata": {},
   "outputs": [
    {
     "data": {
      "text/plain": [
       "(0.2718814584933888, 0.38075012045397966)"
      ]
     },
     "execution_count": 70,
     "metadata": {},
     "output_type": "execute_result"
    }
   ],
   "source": [
    "CI_camwin"
   ]
  },
  {
   "cell_type": "code",
   "execution_count": 71,
   "id": "3f74e468",
   "metadata": {},
   "outputs": [],
   "source": [
    "a=df_gha['result'].value_counts()"
   ]
  },
  {
   "cell_type": "code",
   "execution_count": 72,
   "id": "a9daaf72",
   "metadata": {},
   "outputs": [],
   "source": [
    "a=np.array(a)"
   ]
  },
  {
   "cell_type": "code",
   "execution_count": 73,
   "id": "a94f4b54",
   "metadata": {},
   "outputs": [],
   "source": [
    "N=a.sum()"
   ]
  },
  {
   "cell_type": "code",
   "execution_count": 74,
   "id": "94e8777a",
   "metadata": {},
   "outputs": [],
   "source": [
    "CI_ghawin=proportion_confint(count=a[0],nobs=N,alpha=(1-.95))"
   ]
  },
  {
   "cell_type": "code",
   "execution_count": 75,
   "id": "0d7fdb6e",
   "metadata": {},
   "outputs": [
    {
     "data": {
      "text/plain": [
       "(0.3207858245704555, 0.42612775567645805)"
      ]
     },
     "execution_count": 75,
     "metadata": {},
     "output_type": "execute_result"
    }
   ],
   "source": [
    "CI_ghawin"
   ]
  },
  {
   "cell_type": "markdown",
   "id": "d857e05c",
   "metadata": {},
   "source": [
    "Question 3: Drawing the corresponding graphs of confidence intervals"
   ]
  },
  {
   "cell_type": "code",
   "execution_count": 76,
   "id": "39354bb8",
   "metadata": {},
   "outputs": [
    {
     "data": {
      "text/html": [
       "<div>\n",
       "<style scoped>\n",
       "    .dataframe tbody tr th:only-of-type {\n",
       "        vertical-align: middle;\n",
       "    }\n",
       "\n",
       "    .dataframe tbody tr th {\n",
       "        vertical-align: top;\n",
       "    }\n",
       "\n",
       "    .dataframe thead th {\n",
       "        text-align: right;\n",
       "    }\n",
       "</style>\n",
       "<table border=\"1\" class=\"dataframe\">\n",
       "  <thead>\n",
       "    <tr style=\"text-align: right;\">\n",
       "      <th></th>\n",
       "      <th>away_team</th>\n",
       "      <th>lb</th>\n",
       "      <th>ub</th>\n",
       "    </tr>\n",
       "  </thead>\n",
       "  <tbody>\n",
       "    <tr>\n",
       "      <th>0</th>\n",
       "      <td>Cameroon</td>\n",
       "      <td>0.271881</td>\n",
       "      <td>0.380750</td>\n",
       "    </tr>\n",
       "    <tr>\n",
       "      <th>1</th>\n",
       "      <td>Egypt</td>\n",
       "      <td>0.297207</td>\n",
       "      <td>0.411748</td>\n",
       "    </tr>\n",
       "    <tr>\n",
       "      <th>2</th>\n",
       "      <td>Senegal</td>\n",
       "      <td>0.321027</td>\n",
       "      <td>0.427401</td>\n",
       "    </tr>\n",
       "    <tr>\n",
       "      <th>3</th>\n",
       "      <td>Ghana</td>\n",
       "      <td>0.320786</td>\n",
       "      <td>0.426128</td>\n",
       "    </tr>\n",
       "    <tr>\n",
       "      <th>4</th>\n",
       "      <td>Wales</td>\n",
       "      <td>0.501006</td>\n",
       "      <td>0.605622</td>\n",
       "    </tr>\n",
       "    <tr>\n",
       "      <th>5</th>\n",
       "      <td>Scotland</td>\n",
       "      <td>0.345163</td>\n",
       "      <td>0.439341</td>\n",
       "    </tr>\n",
       "    <tr>\n",
       "      <th>6</th>\n",
       "      <td>Hungary</td>\n",
       "      <td>0.359679</td>\n",
       "      <td>0.446906</td>\n",
       "    </tr>\n",
       "    <tr>\n",
       "      <th>7</th>\n",
       "      <td>Greece</td>\n",
       "      <td>0.383023</td>\n",
       "      <td>0.498096</td>\n",
       "    </tr>\n",
       "  </tbody>\n",
       "</table>\n",
       "</div>"
      ],
      "text/plain": [
       "  away_team        lb        ub\n",
       "0  Cameroon  0.271881  0.380750\n",
       "1     Egypt  0.297207  0.411748\n",
       "2   Senegal  0.321027  0.427401\n",
       "3     Ghana  0.320786  0.426128\n",
       "4     Wales  0.501006  0.605622\n",
       "5  Scotland  0.345163  0.439341\n",
       "6   Hungary  0.359679  0.446906\n",
       "7    Greece  0.383023  0.498096"
      ]
     },
     "execution_count": 76,
     "metadata": {},
     "output_type": "execute_result"
    }
   ],
   "source": [
    "df_cam = {}\n",
    "df_cam['away_team'] = ['Cameroon','Egypt','Senegal','Ghana','Wales','Scotland','Hungary','Greece']\n",
    "df_cam['lb'] = [CI_camwin[0],CI_egywin[0],CI_senwin[0],CI_ghawin[0],CI_walwin[0],CI_scowin[0],CI_hugwin[0],CI_grewin[0]]\n",
    "df_cam['ub'] = [CI_camwin[1],CI_egywin[1],CI_senwin[1],CI_ghawin[1],CI_walwin[1],CI_scowin[1],CI_hugwin[1],CI_grewin[1]]\n",
    "df_ci= pd.DataFrame(df_cam)\n",
    "df_ci"
   ]
  },
  {
   "cell_type": "code",
   "execution_count": 77,
   "id": "eeae0241",
   "metadata": {},
   "outputs": [
    {
     "data": {
      "text/plain": [
       "([<matplotlib.axis.YTick at 0x22df44d43a0>,\n",
       "  <matplotlib.axis.YTick at 0x22df44bdbe0>,\n",
       "  <matplotlib.axis.YTick at 0x22df44aff40>,\n",
       "  <matplotlib.axis.YTick at 0x22df4babbe0>,\n",
       "  <matplotlib.axis.YTick at 0x22df4bab760>,\n",
       "  <matplotlib.axis.YTick at 0x22df4bbc7f0>,\n",
       "  <matplotlib.axis.YTick at 0x22df4bbcf40>,\n",
       "  <matplotlib.axis.YTick at 0x22df4bc36d0>],\n",
       " [Text(0, 0, 'Cameroon'),\n",
       "  Text(0, 1, 'Egypt'),\n",
       "  Text(0, 2, 'Senegal'),\n",
       "  Text(0, 3, 'Ghana'),\n",
       "  Text(0, 4, 'Wales'),\n",
       "  Text(0, 5, 'Scotland'),\n",
       "  Text(0, 6, 'Hungary'),\n",
       "  Text(0, 7, 'Greece')])"
      ]
     },
     "execution_count": 77,
     "metadata": {},
     "output_type": "execute_result"
    },
    {
     "data": {
      "image/png": "[encoded data removed]",
      "text/plain": [
       "<Figure size 432x288 with 1 Axes>"
      ]
     },
     "metadata": {
      "needs_background": "light"
     },
     "output_type": "display_data"
    }
   ],
   "source": [
    "import matplotlib.pyplot as plt\n",
    "for lb,ub,y in zip(df_ci['lb'],df_ci['ub'],range(len(df_ci))):\n",
    "    plt.plot((lb,ub),(y,y),'ro-')\n",
    "plt.yticks(range(len(df_ci)),list(df_ci['away_team']))"
   ]
  },
  {
   "cell_type": "markdown",
   "id": "164807ad",
   "metadata": {},
   "source": [
    "Question 4: Description of results and conclusion"
   ]
  },
  {
   "cell_type": "markdown",
   "id": "ccc8128b",
   "metadata": {},
   "source": [
    "It is observed that countries from Africa have lower probabilities of winning (0.354478,0.374214,0.326316,0.373457) than countries from Europe (0.392252,0.553314,0.403292,0.440559). There is a slight but not significant difference between the confidence intervals of African countries and European countries, the confidence intervals of African countries is lower. However there is a significant difference between the confidence interval of Wales and the other African countries, Wales has higher confidence interval. Which shows that European teams have higher chances of winning when playing away from their home lands than African teams when playing away from their home land. The reason for this might be that because Europeans can travel easily across borders in Europe and so European players are more used to travelling and more comfortable in different countries. Europeans have mobility accross Europe and can use the train any time to easily travel from country to country. On the other hand, in Africa there are stronger restrictions across borders and each country is isolated from the ones beside it therefore, Africans are less used to travelling around Africa and less comfortable playing on a different land. Africans travel less frequently across Africa due to the restrictions and not having many options of means of transportation (like trains across countries, etc..) therefore they are not used to other countries and travelling might make them uncomfortable. Another reason why European teams have higher chances of winning might be because european countries have similar footbll pitch sizes and so players are used to the dimensions of their court and know it well while across Africa football pitch sizes might vary."
   ]
  },
  {
   "cell_type": "markdown",
   "id": "65f10041",
   "metadata": {},
   "source": [
    "Part 2"
   ]
  },
  {
   "cell_type": "markdown",
   "id": "39d957e2",
   "metadata": {},
   "source": [
    "Abstract: In this part I will analyze the following: number of COVID-19 cases in Italy over the months (January to December) firstly in 2020 then will analyze and compare it in the period from 2020 and to 2021. Graphs show the different waves of COVID-19 throughout this period and these waves could be explained due to the emergence of new variants of the disease or due to the COVID restrictions being at ease at times and people not abiding by quarantine rules. Comparisons of income of countries, comparison of regions and continents show that different factors affect the spreading of the disease and the number of reported deaths. Continents with less population like Oceania have the least number of cases as there is not many people and therefore less crowding and less spreading. High income countries and developed have higher number of cases maybe due to the higher average age or due to the better healthcare system for reporting cases."
   ]
  },
  {
   "cell_type": "markdown",
   "id": "a0a464bb",
   "metadata": {},
   "source": [
    "Question 1: The daily reported number of confirmed cases and deaths."
   ]
  },
  {
   "cell_type": "code",
   "execution_count": 78,
   "id": "533c9314",
   "metadata": {},
   "outputs": [],
   "source": [
    "df=pd.read_csv('C:/Users/Mona/Desktop/covid_data.csv',encoding='latin-1')"
   ]
  },
  {
   "cell_type": "code",
   "execution_count": 79,
   "id": "10063b33",
   "metadata": {},
   "outputs": [],
   "source": [
    "df['totcases'] = df.groupby(['iso3c'])['dcases'].cumsum()"
   ]
  },
  {
   "cell_type": "code",
   "execution_count": 80,
   "id": "3100d3f4",
   "metadata": {},
   "outputs": [],
   "source": [
    "df['totdeaths'] = df.groupby(['iso3c'])['ddeaths'].cumsum()"
   ]
  },
  {
   "cell_type": "markdown",
   "id": "a82c96ef",
   "metadata": {},
   "source": [
    "Question 2: Fatality rate/ the ratio between the deaths and confirmed cases."
   ]
  },
  {
   "cell_type": "code",
   "execution_count": 81,
   "id": "b16ed0d0",
   "metadata": {},
   "outputs": [],
   "source": [
    "df['cfr']=df['totdeaths']/df['totcases']"
   ]
  },
  {
   "cell_type": "code",
   "execution_count": 82,
   "id": "35bc4ced",
   "metadata": {},
   "outputs": [
    {
     "data": {
      "text/html": [
       "<div>\n",
       "<style scoped>\n",
       "    .dataframe tbody tr th:only-of-type {\n",
       "        vertical-align: middle;\n",
       "    }\n",
       "\n",
       "    .dataframe tbody tr th {\n",
       "        vertical-align: top;\n",
       "    }\n",
       "\n",
       "    .dataframe thead th {\n",
       "        text-align: right;\n",
       "    }\n",
       "</style>\n",
       "<table border=\"1\" class=\"dataframe\">\n",
       "  <thead>\n",
       "    <tr style=\"text-align: right;\">\n",
       "      <th></th>\n",
       "      <th>date</th>\n",
       "      <th>iso3c</th>\n",
       "      <th>country</th>\n",
       "      <th>income</th>\n",
       "      <th>region</th>\n",
       "      <th>continent</th>\n",
       "      <th>dcases</th>\n",
       "      <th>ddeaths</th>\n",
       "      <th>population</th>\n",
       "      <th>weekdays</th>\n",
       "      <th>month</th>\n",
       "      <th>totcases</th>\n",
       "      <th>totdeaths</th>\n",
       "      <th>cfr</th>\n",
       "    </tr>\n",
       "  </thead>\n",
       "  <tbody>\n",
       "    <tr>\n",
       "      <th>0</th>\n",
       "      <td>2020-02-24</td>\n",
       "      <td>AFG</td>\n",
       "      <td>Afghanistan</td>\n",
       "      <td>Low income</td>\n",
       "      <td>South Asia</td>\n",
       "      <td>Asia</td>\n",
       "      <td>5</td>\n",
       "      <td>0</td>\n",
       "      <td>38041754</td>\n",
       "      <td>Mon</td>\n",
       "      <td>Feb</td>\n",
       "      <td>5</td>\n",
       "      <td>0</td>\n",
       "      <td>0.0</td>\n",
       "    </tr>\n",
       "    <tr>\n",
       "      <th>1</th>\n",
       "      <td>2020-02-25</td>\n",
       "      <td>AFG</td>\n",
       "      <td>Afghanistan</td>\n",
       "      <td>Low income</td>\n",
       "      <td>South Asia</td>\n",
       "      <td>Asia</td>\n",
       "      <td>0</td>\n",
       "      <td>0</td>\n",
       "      <td>38041754</td>\n",
       "      <td>Tue</td>\n",
       "      <td>Feb</td>\n",
       "      <td>5</td>\n",
       "      <td>0</td>\n",
       "      <td>0.0</td>\n",
       "    </tr>\n",
       "    <tr>\n",
       "      <th>2</th>\n",
       "      <td>2020-02-26</td>\n",
       "      <td>AFG</td>\n",
       "      <td>Afghanistan</td>\n",
       "      <td>Low income</td>\n",
       "      <td>South Asia</td>\n",
       "      <td>Asia</td>\n",
       "      <td>0</td>\n",
       "      <td>0</td>\n",
       "      <td>38041754</td>\n",
       "      <td>Wed</td>\n",
       "      <td>Feb</td>\n",
       "      <td>5</td>\n",
       "      <td>0</td>\n",
       "      <td>0.0</td>\n",
       "    </tr>\n",
       "    <tr>\n",
       "      <th>3</th>\n",
       "      <td>2020-02-27</td>\n",
       "      <td>AFG</td>\n",
       "      <td>Afghanistan</td>\n",
       "      <td>Low income</td>\n",
       "      <td>South Asia</td>\n",
       "      <td>Asia</td>\n",
       "      <td>0</td>\n",
       "      <td>0</td>\n",
       "      <td>38041754</td>\n",
       "      <td>Thu</td>\n",
       "      <td>Feb</td>\n",
       "      <td>5</td>\n",
       "      <td>0</td>\n",
       "      <td>0.0</td>\n",
       "    </tr>\n",
       "    <tr>\n",
       "      <th>4</th>\n",
       "      <td>2020-02-28</td>\n",
       "      <td>AFG</td>\n",
       "      <td>Afghanistan</td>\n",
       "      <td>Low income</td>\n",
       "      <td>South Asia</td>\n",
       "      <td>Asia</td>\n",
       "      <td>0</td>\n",
       "      <td>0</td>\n",
       "      <td>38041754</td>\n",
       "      <td>Fri</td>\n",
       "      <td>Feb</td>\n",
       "      <td>5</td>\n",
       "      <td>0</td>\n",
       "      <td>0.0</td>\n",
       "    </tr>\n",
       "  </tbody>\n",
       "</table>\n",
       "</div>"
      ],
      "text/plain": [
       "         date iso3c      country      income      region continent  dcases  \\\n",
       "0  2020-02-24   AFG  Afghanistan  Low income  South Asia      Asia       5   \n",
       "1  2020-02-25   AFG  Afghanistan  Low income  South Asia      Asia       0   \n",
       "2  2020-02-26   AFG  Afghanistan  Low income  South Asia      Asia       0   \n",
       "3  2020-02-27   AFG  Afghanistan  Low income  South Asia      Asia       0   \n",
       "4  2020-02-28   AFG  Afghanistan  Low income  South Asia      Asia       0   \n",
       "\n",
       "   ddeaths  population weekdays month  totcases  totdeaths  cfr  \n",
       "0        0    38041754      Mon   Feb         5          0  0.0  \n",
       "1        0    38041754      Tue   Feb         5          0  0.0  \n",
       "2        0    38041754      Wed   Feb         5          0  0.0  \n",
       "3        0    38041754      Thu   Feb         5          0  0.0  \n",
       "4        0    38041754      Fri   Feb         5          0  0.0  "
      ]
     },
     "execution_count": 82,
     "metadata": {},
     "output_type": "execute_result"
    }
   ],
   "source": [
    "df.head()"
   ]
  },
  {
   "cell_type": "markdown",
   "id": "4a0aec4a",
   "metadata": {},
   "source": [
    "Question 3: Compare between the deaths and daily cases in Italy during the year 2021 per month"
   ]
  },
  {
   "cell_type": "code",
   "execution_count": 83,
   "id": "66716753",
   "metadata": {},
   "outputs": [],
   "source": [
    "from pandas.api.types import CategoricalDtype\n",
    "cats=['Jan', 'Feb', 'Mar','Apr','May','Jun','Jul','Aug','Sep','Oct','Nov','Dec']\n",
    "cat_type = CategoricalDtype(categories=cats, ordered=True)\n",
    "df['month'] = df['month'].astype(cat_type)"
   ]
  },
  {
   "cell_type": "code",
   "execution_count": 84,
   "id": "2e9a0950",
   "metadata": {},
   "outputs": [],
   "source": [
    "dfita=df[df['country']=='Italy']"
   ]
  },
  {
   "cell_type": "code",
   "execution_count": 85,
   "id": "59989227",
   "metadata": {},
   "outputs": [],
   "source": [
    "import numpy as np"
   ]
  },
  {
   "cell_type": "code",
   "execution_count": 86,
   "id": "64bc211a",
   "metadata": {},
   "outputs": [],
   "source": [
    "from scipy.stats import norm,t"
   ]
  },
  {
   "cell_type": "code",
   "execution_count": 87,
   "id": "abb8ee51",
   "metadata": {},
   "outputs": [],
   "source": [
    "stats=dfita.groupby(\"month\").agg({\"dcases\": [np.mean, np.std, np.size]})"
   ]
  },
  {
   "cell_type": "code",
   "execution_count": 88,
   "id": "8640e30d",
   "metadata": {},
   "outputs": [],
   "source": [
    "stats=pd.DataFrame(stats)"
   ]
  },
  {
   "cell_type": "code",
   "execution_count": 89,
   "id": "3efbefaf",
   "metadata": {},
   "outputs": [],
   "source": [
    "stats.columns=['mean','std','size']"
   ]
  },
  {
   "cell_type": "code",
   "execution_count": 90,
   "id": "980e5617",
   "metadata": {},
   "outputs": [],
   "source": [
    "def get_ci_lb(x, alpha=0.05):\n",
    "    sample_s=np.std(x)\n",
    "    sample_mean=np.mean(x)\n",
    "    sample_size=len(x)\n",
    "    margin_of_error = t.ppf(1 - alpha/2,sample_size-1)*sample_s/np.sqrt(sample_size-1)\n",
    "    return sample_mean - margin_of_error"
   ]
  },
  {
   "cell_type": "code",
   "execution_count": 91,
   "id": "4118f8da",
   "metadata": {},
   "outputs": [],
   "source": [
    "x=dfita['dcases']"
   ]
  },
  {
   "cell_type": "code",
   "execution_count": 92,
   "id": "b4af8014",
   "metadata": {},
   "outputs": [
    {
     "data": {
      "text/plain": [
       "7835.226087011339"
      ]
     },
     "execution_count": 92,
     "metadata": {},
     "output_type": "execute_result"
    }
   ],
   "source": [
    "get_ci_lb(x)"
   ]
  },
  {
   "cell_type": "code",
   "execution_count": 93,
   "id": "fc48cc68",
   "metadata": {},
   "outputs": [],
   "source": [
    "def get_ci_ub(x, alpha=0.05):\n",
    "    sample_s=np.std(x)\n",
    "    sample_mean=np.mean(x)\n",
    "    sample_size=len(x)\n",
    "    margin_of_error = t.ppf(1 - alpha/2,sample_size-1)*sample_s/np.sqrt(sample_size-1)\n",
    "    return sample_mean + margin_of_error"
   ]
  },
  {
   "cell_type": "code",
   "execution_count": 94,
   "id": "12191692",
   "metadata": {},
   "outputs": [
    {
     "data": {
      "text/plain": [
       "9642.180475042871"
      ]
     },
     "execution_count": 94,
     "metadata": {},
     "output_type": "execute_result"
    }
   ],
   "source": [
    "get_ci_ub(x)"
   ]
  },
  {
   "cell_type": "code",
   "execution_count": 95,
   "id": "244cd082",
   "metadata": {},
   "outputs": [
    {
     "data": {
      "text/html": [
       "<div>\n",
       "<style scoped>\n",
       "    .dataframe tbody tr th:only-of-type {\n",
       "        vertical-align: middle;\n",
       "    }\n",
       "\n",
       "    .dataframe tbody tr th {\n",
       "        vertical-align: top;\n",
       "    }\n",
       "\n",
       "    .dataframe thead tr th {\n",
       "        text-align: left;\n",
       "    }\n",
       "\n",
       "    .dataframe thead tr:last-of-type th {\n",
       "        text-align: right;\n",
       "    }\n",
       "</style>\n",
       "<table border=\"1\" class=\"dataframe\">\n",
       "  <thead>\n",
       "    <tr>\n",
       "      <th></th>\n",
       "      <th colspan=\"5\" halign=\"left\">dcases</th>\n",
       "    </tr>\n",
       "    <tr>\n",
       "      <th></th>\n",
       "      <th>mean</th>\n",
       "      <th>std</th>\n",
       "      <th>size</th>\n",
       "      <th>get_ci_lb</th>\n",
       "      <th>get_ci_ub</th>\n",
       "    </tr>\n",
       "    <tr>\n",
       "      <th>month</th>\n",
       "      <th></th>\n",
       "      <th></th>\n",
       "      <th></th>\n",
       "      <th></th>\n",
       "      <th></th>\n",
       "    </tr>\n",
       "  </thead>\n",
       "  <tbody>\n",
       "    <tr>\n",
       "      <th>Jan</th>\n",
       "      <td>3330.493183</td>\n",
       "      <td>16114.132615</td>\n",
       "      <td>5868</td>\n",
       "      <td>2918.111302</td>\n",
       "      <td>3742.875065</td>\n",
       "    </tr>\n",
       "    <tr>\n",
       "      <th>Feb</th>\n",
       "      <td>1869.261968</td>\n",
       "      <td>7579.872208</td>\n",
       "      <td>6058</td>\n",
       "      <td>1678.350449</td>\n",
       "      <td>2060.173487</td>\n",
       "    </tr>\n",
       "    <tr>\n",
       "      <th>Mar</th>\n",
       "      <td>1599.375677</td>\n",
       "      <td>6590.844635</td>\n",
       "      <td>9785</td>\n",
       "      <td>1468.769872</td>\n",
       "      <td>1729.981482</td>\n",
       "    </tr>\n",
       "    <tr>\n",
       "      <th>Apr</th>\n",
       "      <td>2294.984731</td>\n",
       "      <td>14842.094035</td>\n",
       "      <td>10872</td>\n",
       "      <td>2015.963723</td>\n",
       "      <td>2574.005740</td>\n",
       "    </tr>\n",
       "    <tr>\n",
       "      <th>May</th>\n",
       "      <td>1989.523264</td>\n",
       "      <td>16428.338523</td>\n",
       "      <td>11348</td>\n",
       "      <td>1687.230050</td>\n",
       "      <td>2291.816478</td>\n",
       "    </tr>\n",
       "    <tr>\n",
       "      <th>Jun</th>\n",
       "      <td>1433.149046</td>\n",
       "      <td>6561.947273</td>\n",
       "      <td>11010</td>\n",
       "      <td>1310.564727</td>\n",
       "      <td>1555.733365</td>\n",
       "    </tr>\n",
       "    <tr>\n",
       "      <th>Jul</th>\n",
       "      <td>2007.870352</td>\n",
       "      <td>7408.384725</td>\n",
       "      <td>11377</td>\n",
       "      <td>1871.724646</td>\n",
       "      <td>2144.016059</td>\n",
       "    </tr>\n",
       "    <tr>\n",
       "      <th>Aug</th>\n",
       "      <td>2441.502152</td>\n",
       "      <td>10425.483877</td>\n",
       "      <td>11387</td>\n",
       "      <td>2249.994637</td>\n",
       "      <td>2633.009667</td>\n",
       "    </tr>\n",
       "    <tr>\n",
       "      <th>Sep</th>\n",
       "      <td>2223.283062</td>\n",
       "      <td>10260.530149</td>\n",
       "      <td>11040</td>\n",
       "      <td>2031.865854</td>\n",
       "      <td>2414.700269</td>\n",
       "    </tr>\n",
       "    <tr>\n",
       "      <th>Oct</th>\n",
       "      <td>2205.899580</td>\n",
       "      <td>7917.525038</td>\n",
       "      <td>11432</td>\n",
       "      <td>2060.747783</td>\n",
       "      <td>2351.051377</td>\n",
       "    </tr>\n",
       "    <tr>\n",
       "      <th>Nov</th>\n",
       "      <td>2964.868421</td>\n",
       "      <td>11235.400964</td>\n",
       "      <td>11134</td>\n",
       "      <td>2756.151203</td>\n",
       "      <td>3173.585639</td>\n",
       "    </tr>\n",
       "    <tr>\n",
       "      <th>Dec</th>\n",
       "      <td>3979.827003</td>\n",
       "      <td>20864.089717</td>\n",
       "      <td>11532</td>\n",
       "      <td>3598.988540</td>\n",
       "      <td>4360.665467</td>\n",
       "    </tr>\n",
       "  </tbody>\n",
       "</table>\n",
       "</div>"
      ],
      "text/plain": [
       "            dcases                                               \n",
       "              mean           std   size    get_ci_lb    get_ci_ub\n",
       "month                                                            \n",
       "Jan    3330.493183  16114.132615   5868  2918.111302  3742.875065\n",
       "Feb    1869.261968   7579.872208   6058  1678.350449  2060.173487\n",
       "Mar    1599.375677   6590.844635   9785  1468.769872  1729.981482\n",
       "Apr    2294.984731  14842.094035  10872  2015.963723  2574.005740\n",
       "May    1989.523264  16428.338523  11348  1687.230050  2291.816478\n",
       "Jun    1433.149046   6561.947273  11010  1310.564727  1555.733365\n",
       "Jul    2007.870352   7408.384725  11377  1871.724646  2144.016059\n",
       "Aug    2441.502152  10425.483877  11387  2249.994637  2633.009667\n",
       "Sep    2223.283062  10260.530149  11040  2031.865854  2414.700269\n",
       "Oct    2205.899580   7917.525038  11432  2060.747783  2351.051377\n",
       "Nov    2964.868421  11235.400964  11134  2756.151203  3173.585639\n",
       "Dec    3979.827003  20864.089717  11532  3598.988540  4360.665467"
      ]
     },
     "execution_count": 95,
     "metadata": {},
     "output_type": "execute_result"
    }
   ],
   "source": [
    "ci_dcases=statsm=df.groupby(\"month\").agg({\"dcases\": [np.mean, np.std, np.size,get_ci_lb,get_ci_ub]})\n",
    "statsm"
   ]
  },
  {
   "cell_type": "code",
   "execution_count": 96,
   "id": "ef386277",
   "metadata": {},
   "outputs": [
    {
     "data": {
      "text/plain": [
       "CategoricalIndex(['Jan', 'Feb', 'Mar', 'Apr', 'May', 'Jun', 'Jul', 'Aug',\n",
       "                  'Sep', 'Oct', 'Nov', 'Dec'],\n",
       "                 categories=['Jan', 'Feb', 'Mar', 'Apr', 'May', 'Jun', 'Jul', 'Aug', ...], ordered=True, dtype='category', name='month')"
      ]
     },
     "execution_count": 96,
     "metadata": {},
     "output_type": "execute_result"
    }
   ],
   "source": [
    "statsm.index"
   ]
  },
  {
   "cell_type": "code",
   "execution_count": 97,
   "id": "a11f0d8c",
   "metadata": {},
   "outputs": [],
   "source": [
    "statsm.columns=['mean','std','size','lb','ub']"
   ]
  },
  {
   "cell_type": "code",
   "execution_count": 98,
   "id": "f516195b",
   "metadata": {},
   "outputs": [],
   "source": [
    "statsm['month']=statsm.index"
   ]
  },
  {
   "cell_type": "code",
   "execution_count": 99,
   "id": "81788ff3",
   "metadata": {},
   "outputs": [],
   "source": [
    "import matplotlib.pyplot as plt"
   ]
  },
  {
   "cell_type": "code",
   "execution_count": 100,
   "id": "0264aa52",
   "metadata": {},
   "outputs": [],
   "source": [
    "df['date'] = pd. to_datetime(df['date'],format='%Y-%m-%d')"
   ]
  },
  {
   "cell_type": "code",
   "execution_count": 101,
   "id": "65eb68eb",
   "metadata": {},
   "outputs": [],
   "source": [
    "df['year'] = pd. DatetimeIndex(df['date']). year"
   ]
  },
  {
   "cell_type": "code",
   "execution_count": 102,
   "id": "601c7abd",
   "metadata": {},
   "outputs": [],
   "source": [
    "statsdcases=df.groupby(['country','year','month']).agg({\"dcases\": [np.mean, np.std, np.size,get_ci_lb,get_ci_ub]})"
   ]
  },
  {
   "cell_type": "code",
   "execution_count": 103,
   "id": "cebda7d5",
   "metadata": {},
   "outputs": [],
   "source": [
    "statsdcases=statsdcases.reset_index()"
   ]
  },
  {
   "cell_type": "code",
   "execution_count": 104,
   "id": "941e664b",
   "metadata": {},
   "outputs": [],
   "source": [
    "statsita=statsdcases[(statsdcases['country']=='Italy') & (statsdcases['year']==2021)]"
   ]
  },
  {
   "cell_type": "code",
   "execution_count": 105,
   "id": "12fe6706",
   "metadata": {},
   "outputs": [],
   "source": [
    "statsita.columns=['country','year','month','mean','std','size','lb','ub']"
   ]
  },
  {
   "cell_type": "code",
   "execution_count": 106,
   "id": "09fb9a41",
   "metadata": {},
   "outputs": [
    {
     "data": {
      "image/png": "[encoded data removed]",
      "text/plain": [
       "<Figure size 432x288 with 1 Axes>"
      ]
     },
     "metadata": {
      "needs_background": "light"
     },
     "output_type": "display_data"
    }
   ],
   "source": [
    "plt.plot( 'month', 'mean', data=statsita, marker='s', color='black', markersize=4,     linewidth=1, linestyle='--')\n",
    "plt.plot( 'month', 'mean', data=statsita, marker='o', color='black',  markersize=4, linewidth=1,linestyle='-')\n",
    "plt.xlabel(\"Month\")\n",
    "plt.ylabel(\"Average Daily COVID CASES\")\n",
    "plt.title(\"Italy\")\n",
    "plt.show()"
   ]
  },
  {
   "cell_type": "markdown",
   "id": "9a5b8950",
   "metadata": {},
   "source": [
    "It is observed that 3 main waves of increase in COVID-19 cases occured during 2021 in Italy. The first one from February to March, the second from June to August and the third from October to December."
   ]
  },
  {
   "cell_type": "markdown",
   "id": "386cccc8",
   "metadata": {},
   "source": [
    " Question 4: Comparing between 2020 and 2021 in terms of several factors like regions,\n",
    "income, and continents."
   ]
  },
  {
   "cell_type": "markdown",
   "id": "b4672f99",
   "metadata": {},
   "source": [
    "Statistical analysis of CoronaVirus Pandemic Over the Period Between 2020 and 2021 in Italy"
   ]
  },
  {
   "cell_type": "code",
   "execution_count": 107,
   "id": "4a052501",
   "metadata": {},
   "outputs": [
    {
     "data": {
      "text/html": [
       "<div>\n",
       "<style scoped>\n",
       "    .dataframe tbody tr th:only-of-type {\n",
       "        vertical-align: middle;\n",
       "    }\n",
       "\n",
       "    .dataframe tbody tr th {\n",
       "        vertical-align: top;\n",
       "    }\n",
       "\n",
       "    .dataframe thead tr th {\n",
       "        text-align: left;\n",
       "    }\n",
       "</style>\n",
       "<table border=\"1\" class=\"dataframe\">\n",
       "  <thead>\n",
       "    <tr>\n",
       "      <th></th>\n",
       "      <th>country</th>\n",
       "      <th>year</th>\n",
       "      <th>month</th>\n",
       "      <th colspan=\"5\" halign=\"left\">dcases</th>\n",
       "    </tr>\n",
       "    <tr>\n",
       "      <th></th>\n",
       "      <th></th>\n",
       "      <th></th>\n",
       "      <th></th>\n",
       "      <th>mean</th>\n",
       "      <th>std</th>\n",
       "      <th>size</th>\n",
       "      <th>get_ci_lb</th>\n",
       "      <th>get_ci_ub</th>\n",
       "    </tr>\n",
       "  </thead>\n",
       "  <tbody>\n",
       "    <tr>\n",
       "      <th>1944</th>\n",
       "      <td>Italy</td>\n",
       "      <td>2020</td>\n",
       "      <td>Jan</td>\n",
       "      <td>2.000000</td>\n",
       "      <td>NaN</td>\n",
       "      <td>1.0</td>\n",
       "      <td>NaN</td>\n",
       "      <td>NaN</td>\n",
       "    </tr>\n",
       "    <tr>\n",
       "      <th>1945</th>\n",
       "      <td>Italy</td>\n",
       "      <td>2020</td>\n",
       "      <td>Feb</td>\n",
       "      <td>38.827586</td>\n",
       "      <td>73.426868</td>\n",
       "      <td>29.0</td>\n",
       "      <td>10.897499</td>\n",
       "      <td>66.757673</td>\n",
       "    </tr>\n",
       "    <tr>\n",
       "      <th>1946</th>\n",
       "      <td>Italy</td>\n",
       "      <td>2020</td>\n",
       "      <td>Mar</td>\n",
       "      <td>3376.258065</td>\n",
       "      <td>2050.826207</td>\n",
       "      <td>31.0</td>\n",
       "      <td>2624.008939</td>\n",
       "      <td>4128.507190</td>\n",
       "    </tr>\n",
       "    <tr>\n",
       "      <th>1947</th>\n",
       "      <td>Italy</td>\n",
       "      <td>2020</td>\n",
       "      <td>Apr</td>\n",
       "      <td>3322.366667</td>\n",
       "      <td>934.788174</td>\n",
       "      <td>30.0</td>\n",
       "      <td>2973.311026</td>\n",
       "      <td>3671.422307</td>\n",
       "    </tr>\n",
       "    <tr>\n",
       "      <th>1948</th>\n",
       "      <td>Italy</td>\n",
       "      <td>2020</td>\n",
       "      <td>May</td>\n",
       "      <td>888.193548</td>\n",
       "      <td>436.496233</td>\n",
       "      <td>31.0</td>\n",
       "      <td>728.085438</td>\n",
       "      <td>1048.301659</td>\n",
       "    </tr>\n",
       "    <tr>\n",
       "      <th>1949</th>\n",
       "      <td>Italy</td>\n",
       "      <td>2020</td>\n",
       "      <td>Jun</td>\n",
       "      <td>257.633333</td>\n",
       "      <td>115.008390</td>\n",
       "      <td>30.0</td>\n",
       "      <td>214.688495</td>\n",
       "      <td>300.578172</td>\n",
       "    </tr>\n",
       "    <tr>\n",
       "      <th>1950</th>\n",
       "      <td>Italy</td>\n",
       "      <td>2020</td>\n",
       "      <td>Jul</td>\n",
       "      <td>224.483871</td>\n",
       "      <td>62.517662</td>\n",
       "      <td>31.0</td>\n",
       "      <td>201.552207</td>\n",
       "      <td>247.415535</td>\n",
       "    </tr>\n",
       "    <tr>\n",
       "      <th>1951</th>\n",
       "      <td>Italy</td>\n",
       "      <td>2020</td>\n",
       "      <td>Aug</td>\n",
       "      <td>699.258065</td>\n",
       "      <td>415.082238</td>\n",
       "      <td>31.0</td>\n",
       "      <td>547.004670</td>\n",
       "      <td>851.511459</td>\n",
       "    </tr>\n",
       "    <tr>\n",
       "      <th>1952</th>\n",
       "      <td>Italy</td>\n",
       "      <td>2020</td>\n",
       "      <td>Sep</td>\n",
       "      <td>1521.566667</td>\n",
       "      <td>247.627596</td>\n",
       "      <td>30.0</td>\n",
       "      <td>1429.101003</td>\n",
       "      <td>1614.032331</td>\n",
       "    </tr>\n",
       "    <tr>\n",
       "      <th>1953</th>\n",
       "      <td>Italy</td>\n",
       "      <td>2020</td>\n",
       "      <td>Oct</td>\n",
       "      <td>11760.290323</td>\n",
       "      <td>8966.383248</td>\n",
       "      <td>31.0</td>\n",
       "      <td>8471.394395</td>\n",
       "      <td>15049.186250</td>\n",
       "    </tr>\n",
       "    <tr>\n",
       "      <th>1954</th>\n",
       "      <td>Italy</td>\n",
       "      <td>2020</td>\n",
       "      <td>Nov</td>\n",
       "      <td>30737.466667</td>\n",
       "      <td>6127.616478</td>\n",
       "      <td>30.0</td>\n",
       "      <td>28449.377070</td>\n",
       "      <td>33025.556263</td>\n",
       "    </tr>\n",
       "    <tr>\n",
       "      <th>1955</th>\n",
       "      <td>Italy</td>\n",
       "      <td>2020</td>\n",
       "      <td>Dec</td>\n",
       "      <td>16310.064516</td>\n",
       "      <td>4159.633878</td>\n",
       "      <td>31.0</td>\n",
       "      <td>14784.298492</td>\n",
       "      <td>17835.830541</td>\n",
       "    </tr>\n",
       "  </tbody>\n",
       "</table>\n",
       "</div>"
      ],
      "text/plain": [
       "     country  year month        dcases                                   \\\n",
       "                                  mean          std  size     get_ci_lb   \n",
       "1944   Italy  2020   Jan      2.000000          NaN   1.0           NaN   \n",
       "1945   Italy  2020   Feb     38.827586    73.426868  29.0     10.897499   \n",
       "1946   Italy  2020   Mar   3376.258065  2050.826207  31.0   2624.008939   \n",
       "1947   Italy  2020   Apr   3322.366667   934.788174  30.0   2973.311026   \n",
       "1948   Italy  2020   May    888.193548   436.496233  31.0    728.085438   \n",
       "1949   Italy  2020   Jun    257.633333   115.008390  30.0    214.688495   \n",
       "1950   Italy  2020   Jul    224.483871    62.517662  31.0    201.552207   \n",
       "1951   Italy  2020   Aug    699.258065   415.082238  31.0    547.004670   \n",
       "1952   Italy  2020   Sep   1521.566667   247.627596  30.0   1429.101003   \n",
       "1953   Italy  2020   Oct  11760.290323  8966.383248  31.0   8471.394395   \n",
       "1954   Italy  2020   Nov  30737.466667  6127.616478  30.0  28449.377070   \n",
       "1955   Italy  2020   Dec  16310.064516  4159.633878  31.0  14784.298492   \n",
       "\n",
       "                    \n",
       "         get_ci_ub  \n",
       "1944           NaN  \n",
       "1945     66.757673  \n",
       "1946   4128.507190  \n",
       "1947   3671.422307  \n",
       "1948   1048.301659  \n",
       "1949    300.578172  \n",
       "1950    247.415535  \n",
       "1951    851.511459  \n",
       "1952   1614.032331  \n",
       "1953  15049.186250  \n",
       "1954  33025.556263  \n",
       "1955  17835.830541  "
      ]
     },
     "execution_count": 107,
     "metadata": {},
     "output_type": "execute_result"
    }
   ],
   "source": [
    "statsita20=statsdcases[(statsdcases['country']=='Italy')\n",
    "                       & (statsdcases['year']==2020)]\n",
    "statsita20"
   ]
  },
  {
   "cell_type": "code",
   "execution_count": 108,
   "id": "ee520f7c",
   "metadata": {},
   "outputs": [
    {
     "data": {
      "text/html": [
       "<div>\n",
       "<style scoped>\n",
       "    .dataframe tbody tr th:only-of-type {\n",
       "        vertical-align: middle;\n",
       "    }\n",
       "\n",
       "    .dataframe tbody tr th {\n",
       "        vertical-align: top;\n",
       "    }\n",
       "\n",
       "    .dataframe thead tr th {\n",
       "        text-align: left;\n",
       "    }\n",
       "</style>\n",
       "<table border=\"1\" class=\"dataframe\">\n",
       "  <thead>\n",
       "    <tr>\n",
       "      <th></th>\n",
       "      <th>country</th>\n",
       "      <th>year</th>\n",
       "      <th>month</th>\n",
       "      <th colspan=\"5\" halign=\"left\">dcases</th>\n",
       "    </tr>\n",
       "    <tr>\n",
       "      <th></th>\n",
       "      <th></th>\n",
       "      <th></th>\n",
       "      <th></th>\n",
       "      <th>mean</th>\n",
       "      <th>std</th>\n",
       "      <th>size</th>\n",
       "      <th>get_ci_lb</th>\n",
       "      <th>get_ci_ub</th>\n",
       "    </tr>\n",
       "  </thead>\n",
       "  <tbody>\n",
       "    <tr>\n",
       "      <th>1956</th>\n",
       "      <td>Italy</td>\n",
       "      <td>2021</td>\n",
       "      <td>Jan</td>\n",
       "      <td>14382.774194</td>\n",
       "      <td>3339.157825</td>\n",
       "      <td>31.0</td>\n",
       "      <td>13157.961215</td>\n",
       "      <td>15607.587172</td>\n",
       "    </tr>\n",
       "    <tr>\n",
       "      <th>1957</th>\n",
       "      <td>Italy</td>\n",
       "      <td>2021</td>\n",
       "      <td>Feb</td>\n",
       "      <td>13294.035714</td>\n",
       "      <td>3389.570392</td>\n",
       "      <td>28.0</td>\n",
       "      <td>11979.697526</td>\n",
       "      <td>14608.373902</td>\n",
       "    </tr>\n",
       "    <tr>\n",
       "      <th>1958</th>\n",
       "      <td>Italy</td>\n",
       "      <td>2021</td>\n",
       "      <td>Mar</td>\n",
       "      <td>21278.516129</td>\n",
       "      <td>3899.512806</td>\n",
       "      <td>31.0</td>\n",
       "      <td>19848.163284</td>\n",
       "      <td>22708.868974</td>\n",
       "    </tr>\n",
       "    <tr>\n",
       "      <th>1959</th>\n",
       "      <td>Italy</td>\n",
       "      <td>2021</td>\n",
       "      <td>Apr</td>\n",
       "      <td>14591.800000</td>\n",
       "      <td>3747.051148</td>\n",
       "      <td>30.0</td>\n",
       "      <td>13192.628107</td>\n",
       "      <td>15990.971893</td>\n",
       "    </tr>\n",
       "    <tr>\n",
       "      <th>1960</th>\n",
       "      <td>Italy</td>\n",
       "      <td>2021</td>\n",
       "      <td>May</td>\n",
       "      <td>6295.741935</td>\n",
       "      <td>2932.354708</td>\n",
       "      <td>31.0</td>\n",
       "      <td>5220.145545</td>\n",
       "      <td>7371.338326</td>\n",
       "    </tr>\n",
       "    <tr>\n",
       "      <th>1961</th>\n",
       "      <td>Italy</td>\n",
       "      <td>2021</td>\n",
       "      <td>Jun</td>\n",
       "      <td>1402.933333</td>\n",
       "      <td>714.902884</td>\n",
       "      <td>30.0</td>\n",
       "      <td>1135.984209</td>\n",
       "      <td>1669.882457</td>\n",
       "    </tr>\n",
       "    <tr>\n",
       "      <th>1962</th>\n",
       "      <td>Italy</td>\n",
       "      <td>2021</td>\n",
       "      <td>Jul</td>\n",
       "      <td>2907.064516</td>\n",
       "      <td>1958.244110</td>\n",
       "      <td>31.0</td>\n",
       "      <td>2188.774777</td>\n",
       "      <td>3625.354255</td>\n",
       "    </tr>\n",
       "    <tr>\n",
       "      <th>1963</th>\n",
       "      <td>Italy</td>\n",
       "      <td>2021</td>\n",
       "      <td>Aug</td>\n",
       "      <td>6127.838710</td>\n",
       "      <td>1273.881499</td>\n",
       "      <td>31.0</td>\n",
       "      <td>5660.575204</td>\n",
       "      <td>6595.102216</td>\n",
       "    </tr>\n",
       "    <tr>\n",
       "      <th>1964</th>\n",
       "      <td>Italy</td>\n",
       "      <td>2021</td>\n",
       "      <td>Sep</td>\n",
       "      <td>4412.133333</td>\n",
       "      <td>1295.630608</td>\n",
       "      <td>30.0</td>\n",
       "      <td>3928.336913</td>\n",
       "      <td>4895.929753</td>\n",
       "    </tr>\n",
       "    <tr>\n",
       "      <th>1965</th>\n",
       "      <td>Italy</td>\n",
       "      <td>2021</td>\n",
       "      <td>Oct</td>\n",
       "      <td>3213.225806</td>\n",
       "      <td>977.378593</td>\n",
       "      <td>31.0</td>\n",
       "      <td>2854.720444</td>\n",
       "      <td>3571.731169</td>\n",
       "    </tr>\n",
       "    <tr>\n",
       "      <th>1966</th>\n",
       "      <td>Italy</td>\n",
       "      <td>2021</td>\n",
       "      <td>Nov</td>\n",
       "      <td>8552.733333</td>\n",
       "      <td>3136.827092</td>\n",
       "      <td>30.0</td>\n",
       "      <td>7381.422847</td>\n",
       "      <td>9724.043819</td>\n",
       "    </tr>\n",
       "    <tr>\n",
       "      <th>1967</th>\n",
       "      <td>Italy</td>\n",
       "      <td>2021</td>\n",
       "      <td>Dec</td>\n",
       "      <td>35391.483871</td>\n",
       "      <td>33089.221108</td>\n",
       "      <td>31.0</td>\n",
       "      <td>23254.259580</td>\n",
       "      <td>47528.708162</td>\n",
       "    </tr>\n",
       "  </tbody>\n",
       "</table>\n",
       "</div>"
      ],
      "text/plain": [
       "     country  year month        dcases                                    \\\n",
       "                                  mean           std  size     get_ci_lb   \n",
       "1956   Italy  2021   Jan  14382.774194   3339.157825  31.0  13157.961215   \n",
       "1957   Italy  2021   Feb  13294.035714   3389.570392  28.0  11979.697526   \n",
       "1958   Italy  2021   Mar  21278.516129   3899.512806  31.0  19848.163284   \n",
       "1959   Italy  2021   Apr  14591.800000   3747.051148  30.0  13192.628107   \n",
       "1960   Italy  2021   May   6295.741935   2932.354708  31.0   5220.145545   \n",
       "1961   Italy  2021   Jun   1402.933333    714.902884  30.0   1135.984209   \n",
       "1962   Italy  2021   Jul   2907.064516   1958.244110  31.0   2188.774777   \n",
       "1963   Italy  2021   Aug   6127.838710   1273.881499  31.0   5660.575204   \n",
       "1964   Italy  2021   Sep   4412.133333   1295.630608  30.0   3928.336913   \n",
       "1965   Italy  2021   Oct   3213.225806    977.378593  31.0   2854.720444   \n",
       "1966   Italy  2021   Nov   8552.733333   3136.827092  30.0   7381.422847   \n",
       "1967   Italy  2021   Dec  35391.483871  33089.221108  31.0  23254.259580   \n",
       "\n",
       "                    \n",
       "         get_ci_ub  \n",
       "1956  15607.587172  \n",
       "1957  14608.373902  \n",
       "1958  22708.868974  \n",
       "1959  15990.971893  \n",
       "1960   7371.338326  \n",
       "1961   1669.882457  \n",
       "1962   3625.354255  \n",
       "1963   6595.102216  \n",
       "1964   4895.929753  \n",
       "1965   3571.731169  \n",
       "1966   9724.043819  \n",
       "1967  47528.708162  "
      ]
     },
     "execution_count": 108,
     "metadata": {},
     "output_type": "execute_result"
    }
   ],
   "source": [
    "statsita21=statsdcases[(statsdcases['country']=='Italy')\n",
    "                       & (statsdcases['year']==2021)]\n",
    "statsita21"
   ]
  },
  {
   "cell_type": "code",
   "execution_count": 109,
   "id": "4306a863",
   "metadata": {},
   "outputs": [],
   "source": [
    "statsita20.columns=['country','year','month','mean','std','size','lb','ub']"
   ]
  },
  {
   "cell_type": "code",
   "execution_count": 110,
   "id": "79675935",
   "metadata": {},
   "outputs": [],
   "source": [
    "statsita21.columns=['country','year','month','mean','std','size','lb','ub']"
   ]
  },
  {
   "cell_type": "code",
   "execution_count": 111,
   "id": "e9fb6731",
   "metadata": {},
   "outputs": [
    {
     "data": {
      "text/plain": [
       "1944    Jan\n",
       "1945    Feb\n",
       "1946    Mar\n",
       "1947    Apr\n",
       "1948    May\n",
       "1949    Jun\n",
       "1950    Jul\n",
       "1951    Aug\n",
       "1952    Sep\n",
       "1953    Oct\n",
       "1954    Nov\n",
       "1955    Dec\n",
       "Name: month, dtype: category\n",
       "Categories (12, object): ['Jan' < 'Feb' < 'Mar' < 'Apr' ... 'Sep' < 'Oct' < 'Nov' < 'Dec']"
      ]
     },
     "execution_count": 111,
     "metadata": {},
     "output_type": "execute_result"
    }
   ],
   "source": [
    "x=statsita20['month']\n",
    "x"
   ]
  },
  {
   "cell_type": "code",
   "execution_count": 112,
   "id": "802f1d07",
   "metadata": {},
   "outputs": [
    {
     "data": {
      "text/plain": [
       "1944        2.000000\n",
       "1945       38.827586\n",
       "1946     3376.258065\n",
       "1947     3322.366667\n",
       "1948      888.193548\n",
       "1949      257.633333\n",
       "1950      224.483871\n",
       "1951      699.258065\n",
       "1952     1521.566667\n",
       "1953    11760.290323\n",
       "1954    30737.466667\n",
       "1955    16310.064516\n",
       "Name: mean, dtype: float64"
      ]
     },
     "execution_count": 112,
     "metadata": {},
     "output_type": "execute_result"
    }
   ],
   "source": [
    "y1=statsita20['mean']\n",
    "y1"
   ]
  },
  {
   "cell_type": "code",
   "execution_count": 113,
   "id": "a69abbf2",
   "metadata": {},
   "outputs": [
    {
     "data": {
      "text/plain": [
       "1956    14382.774194\n",
       "1957    13294.035714\n",
       "1958    21278.516129\n",
       "1959    14591.800000\n",
       "1960     6295.741935\n",
       "1961     1402.933333\n",
       "1962     2907.064516\n",
       "1963     6127.838710\n",
       "1964     4412.133333\n",
       "1965     3213.225806\n",
       "1966     8552.733333\n",
       "1967    35391.483871\n",
       "Name: mean, dtype: float64"
      ]
     },
     "execution_count": 113,
     "metadata": {},
     "output_type": "execute_result"
    }
   ],
   "source": [
    "y2=statsita21['mean']\n",
    "y2"
   ]
  },
  {
   "cell_type": "code",
   "execution_count": 114,
   "id": "bbcaea26",
   "metadata": {},
   "outputs": [],
   "source": [
    "ci_lb_ub20=[statsita20['lb'],statsita20['ub']]\n",
    "err20 = np.abs(ci_lb_ub20 - statsita20['mean'].to_numpy())"
   ]
  },
  {
   "cell_type": "code",
   "execution_count": 115,
   "id": "a9b3d474",
   "metadata": {},
   "outputs": [],
   "source": [
    "ci_lb_ub21=[statsita21['lb'],statsita21['ub']]\n",
    "err21 = np.abs(ci_lb_ub21 - statsita21['mean'].to_numpy())"
   ]
  },
  {
   "cell_type": "code",
   "execution_count": 116,
   "id": "30b79e92",
   "metadata": {},
   "outputs": [],
   "source": [
    "from matplotlib.transforms import Affine2D"
   ]
  },
  {
   "cell_type": "code",
   "execution_count": 117,
   "id": "225bfc9e",
   "metadata": {},
   "outputs": [
    {
     "data": {
      "image/png": "[encoded data removed]",
      "text/plain": [
       "<Figure size 432x288 with 1 Axes>"
      ]
     },
     "metadata": {
      "needs_background": "light"
     },
     "output_type": "display_data"
    }
   ],
   "source": [
    "fig, ax = plt.subplots()\n",
    "\n",
    "trans1 = Affine2D().translate(-0.1, 0.0) + ax.transData\n",
    "trans2 = Affine2D().translate(+0.1, 0.0) + ax.transData\n",
    "plt.errorbar('month', 'mean',  yerr=err20, data=statsita20,marker='s', capsize=2,\n",
    "             color='blue', markersize=4, linewidth=1, linestyle='--',transform=trans1)\n",
    "plt.errorbar('month', 'mean',  yerr=err21, data=statsita21,marker='s', capsize=2,\n",
    "             color='red', markersize=4, linewidth=1, linestyle='--',transform=trans2)\n",
    "plt.legend(['2020','2021'])\n",
    "plt.xlabel(\"Month\")\n",
    "plt.ylabel(\"Average Daily COVID CASES\")\n",
    "plt.title(\"Italy\")\n",
    "plt.show()"
   ]
  },
  {
   "cell_type": "markdown",
   "id": "5b2006b9",
   "metadata": {},
   "source": [
    "Statistical Analysis of the Novel CoronaVirus (COVID 19) in 187 Different Countries according to income."
   ]
  },
  {
   "cell_type": "code",
   "execution_count": 118,
   "id": "bcde9fa7",
   "metadata": {},
   "outputs": [],
   "source": [
    "from pandas.api.types import CategoricalDtype\n",
    "cats=['Low income', 'Lower middle income', 'Upper middle income', 'High income']\n",
    "cat_type = CategoricalDtype(categories=cats, ordered=True)\n",
    "df['income'] = df['income'].astype(cat_type)"
   ]
  },
  {
   "cell_type": "code",
   "execution_count": 119,
   "id": "f54cea6d",
   "metadata": {},
   "outputs": [],
   "source": [
    "stats=df.groupby(\"income\").agg({\"dcases\": [np.mean, np.std, np.size]})"
   ]
  },
  {
   "cell_type": "code",
   "execution_count": 120,
   "id": "d79e1cda",
   "metadata": {},
   "outputs": [],
   "source": [
    "stats=pd.DataFrame(stats)"
   ]
  },
  {
   "cell_type": "code",
   "execution_count": 121,
   "id": "7fd6a10d",
   "metadata": {},
   "outputs": [],
   "source": [
    "stats.columns=['mean','std','size']"
   ]
  },
  {
   "cell_type": "code",
   "execution_count": 122,
   "id": "280bfb96",
   "metadata": {},
   "outputs": [],
   "source": [
    "x=df['dcases']"
   ]
  },
  {
   "cell_type": "code",
   "execution_count": 123,
   "id": "a14dfb31",
   "metadata": {},
   "outputs": [
    {
     "data": {
      "text/plain": [
       "2285.1835480837417"
      ]
     },
     "execution_count": 123,
     "metadata": {},
     "output_type": "execute_result"
    }
   ],
   "source": [
    "get_ci_lb(x)"
   ]
  },
  {
   "cell_type": "code",
   "execution_count": 124,
   "id": "ad64041f",
   "metadata": {},
   "outputs": [
    {
     "data": {
      "text/plain": [
       "2422.2624439548763"
      ]
     },
     "execution_count": 124,
     "metadata": {},
     "output_type": "execute_result"
    }
   ],
   "source": [
    "get_ci_ub(x)"
   ]
  },
  {
   "cell_type": "code",
   "execution_count": 125,
   "id": "be304d84",
   "metadata": {},
   "outputs": [
    {
     "data": {
      "text/html": [
       "<div>\n",
       "<style scoped>\n",
       "    .dataframe tbody tr th:only-of-type {\n",
       "        vertical-align: middle;\n",
       "    }\n",
       "\n",
       "    .dataframe tbody tr th {\n",
       "        vertical-align: top;\n",
       "    }\n",
       "\n",
       "    .dataframe thead tr th {\n",
       "        text-align: left;\n",
       "    }\n",
       "\n",
       "    .dataframe thead tr:last-of-type th {\n",
       "        text-align: right;\n",
       "    }\n",
       "</style>\n",
       "<table border=\"1\" class=\"dataframe\">\n",
       "  <thead>\n",
       "    <tr>\n",
       "      <th></th>\n",
       "      <th colspan=\"5\" halign=\"left\">dcases</th>\n",
       "    </tr>\n",
       "    <tr>\n",
       "      <th></th>\n",
       "      <th>mean</th>\n",
       "      <th>std</th>\n",
       "      <th>size</th>\n",
       "      <th>get_ci_lb</th>\n",
       "      <th>get_ci_ub</th>\n",
       "    </tr>\n",
       "    <tr>\n",
       "      <th>income</th>\n",
       "      <th></th>\n",
       "      <th></th>\n",
       "      <th></th>\n",
       "      <th></th>\n",
       "      <th></th>\n",
       "    </tr>\n",
       "  </thead>\n",
       "  <tbody>\n",
       "    <tr>\n",
       "      <th>Low income</th>\n",
       "      <td>128.303866</td>\n",
       "      <td>528.052513</td>\n",
       "      <td>18936</td>\n",
       "      <td>120.782290</td>\n",
       "      <td>135.825442</td>\n",
       "    </tr>\n",
       "    <tr>\n",
       "      <th>Lower middle income</th>\n",
       "      <td>1967.968678</td>\n",
       "      <td>14104.539546</td>\n",
       "      <td>29532</td>\n",
       "      <td>1807.097451</td>\n",
       "      <td>2128.839905</td>\n",
       "    </tr>\n",
       "    <tr>\n",
       "      <th>Upper middle income</th>\n",
       "      <td>2599.124533</td>\n",
       "      <td>8484.977570</td>\n",
       "      <td>35573</td>\n",
       "      <td>2510.947938</td>\n",
       "      <td>2687.301127</td>\n",
       "    </tr>\n",
       "    <tr>\n",
       "      <th>High income</th>\n",
       "      <td>3508.379053</td>\n",
       "      <td>15941.148992</td>\n",
       "      <td>38802</td>\n",
       "      <td>3349.760419</td>\n",
       "      <td>3666.997686</td>\n",
       "    </tr>\n",
       "  </tbody>\n",
       "</table>\n",
       "</div>"
      ],
      "text/plain": [
       "                          dcases                                    \\\n",
       "                            mean           std   size    get_ci_lb   \n",
       "income                                                               \n",
       "Low income            128.303866    528.052513  18936   120.782290   \n",
       "Lower middle income  1967.968678  14104.539546  29532  1807.097451   \n",
       "Upper middle income  2599.124533   8484.977570  35573  2510.947938   \n",
       "High income          3508.379053  15941.148992  38802  3349.760419   \n",
       "\n",
       "                                  \n",
       "                       get_ci_ub  \n",
       "income                            \n",
       "Low income            135.825442  \n",
       "Lower middle income  2128.839905  \n",
       "Upper middle income  2687.301127  \n",
       "High income          3666.997686  "
      ]
     },
     "execution_count": 125,
     "metadata": {},
     "output_type": "execute_result"
    }
   ],
   "source": [
    "ci_dcases=statsm=df.groupby(\"income\").agg({\"dcases\": [np.mean, np.std, np.size,get_ci_lb,get_ci_ub]})\n",
    "statsm"
   ]
  },
  {
   "cell_type": "code",
   "execution_count": 126,
   "id": "5832e77f",
   "metadata": {},
   "outputs": [
    {
     "data": {
      "text/plain": [
       "CategoricalIndex(['Low income', 'Lower middle income', 'Upper middle income',\n",
       "                  'High income'],\n",
       "                 categories=['Low income', 'Lower middle income', 'Upper middle income', 'High income'], ordered=True, dtype='category', name='income')"
      ]
     },
     "execution_count": 126,
     "metadata": {},
     "output_type": "execute_result"
    }
   ],
   "source": [
    "statsm.index"
   ]
  },
  {
   "cell_type": "code",
   "execution_count": 127,
   "id": "0efe3089",
   "metadata": {},
   "outputs": [],
   "source": [
    "statsm.columns=['mean','std','size','lb','ub']"
   ]
  },
  {
   "cell_type": "code",
   "execution_count": 128,
   "id": "9522bdfc",
   "metadata": {},
   "outputs": [],
   "source": [
    "statsm['income']=statsm.index"
   ]
  },
  {
   "cell_type": "code",
   "execution_count": 129,
   "id": "7f9638af",
   "metadata": {},
   "outputs": [
    {
     "data": {
      "image/png": "[encoded data removed]",
      "text/plain": [
       "<Figure size 432x288 with 1 Axes>"
      ]
     },
     "metadata": {
      "needs_background": "light"
     },
     "output_type": "display_data"
    }
   ],
   "source": [
    "plt.plot( 'income', 'mean', data=statsm, marker='s', color='black', markersize=4,     linewidth=1, linestyle='--')\n",
    "plt.plot( 'income', 'mean', data=statsm, marker='o', color='black',  markersize=4, linewidth=1,linestyle='-')\n",
    "plt.xlabel(\"Income\")\n",
    "plt.ylabel(\"Average Daily COVID CASES\")\n",
    "plt.show()"
   ]
  },
  {
   "cell_type": "markdown",
   "id": "93b7e77c",
   "metadata": {},
   "source": [
    "Statistical Analysis of the Novel CoronaVirus (COVID 19) in 187 Different Countries according to region."
   ]
  },
  {
   "cell_type": "code",
   "execution_count": 130,
   "id": "bee8dea0",
   "metadata": {},
   "outputs": [
    {
     "data": {
      "text/plain": [
       "0                 South Asia\n",
       "1                 South Asia\n",
       "2                 South Asia\n",
       "3                 South Asia\n",
       "4                 South Asia\n",
       "                 ...        \n",
       "122838    Sub-Saharan Africa\n",
       "122839    Sub-Saharan Africa\n",
       "122840    Sub-Saharan Africa\n",
       "122841    Sub-Saharan Africa\n",
       "122842    Sub-Saharan Africa\n",
       "Name: region, Length: 122843, dtype: object"
      ]
     },
     "execution_count": 130,
     "metadata": {},
     "output_type": "execute_result"
    }
   ],
   "source": [
    "df['region']"
   ]
  },
  {
   "cell_type": "code",
   "execution_count": 131,
   "id": "385b200e",
   "metadata": {},
   "outputs": [
    {
     "data": {
      "text/plain": [
       "array(['South Asia', 'Sub-Saharan Africa', 'Europe & Central Asia',\n",
       "       'Middle East & North Africa', 'Latin America & Caribbean',\n",
       "       'East Asia & Pacific', 'North America(region)'], dtype=object)"
      ]
     },
     "execution_count": 131,
     "metadata": {},
     "output_type": "execute_result"
    }
   ],
   "source": [
    "df['region'].unique()"
   ]
  },
  {
   "cell_type": "code",
   "execution_count": 132,
   "id": "1e797b22",
   "metadata": {},
   "outputs": [],
   "source": [
    "stats=df.groupby(\"region\").agg({\"dcases\": [np.mean, np.std, np.size]})"
   ]
  },
  {
   "cell_type": "code",
   "execution_count": 133,
   "id": "0dbe64bf",
   "metadata": {},
   "outputs": [],
   "source": [
    "stats=pd.DataFrame(stats)"
   ]
  },
  {
   "cell_type": "code",
   "execution_count": 134,
   "id": "e044b815",
   "metadata": {},
   "outputs": [],
   "source": [
    "stats.columns=['mean','std','size']"
   ]
  },
  {
   "cell_type": "code",
   "execution_count": 135,
   "id": "7f00e6e1",
   "metadata": {},
   "outputs": [],
   "source": [
    "x=df['dcases']"
   ]
  },
  {
   "cell_type": "code",
   "execution_count": 136,
   "id": "698c9989",
   "metadata": {},
   "outputs": [
    {
     "data": {
      "text/plain": [
       "2285.1835480837417"
      ]
     },
     "execution_count": 136,
     "metadata": {},
     "output_type": "execute_result"
    }
   ],
   "source": [
    "get_ci_lb(x)"
   ]
  },
  {
   "cell_type": "code",
   "execution_count": 137,
   "id": "281e9497",
   "metadata": {},
   "outputs": [
    {
     "data": {
      "text/plain": [
       "2422.2624439548763"
      ]
     },
     "execution_count": 137,
     "metadata": {},
     "output_type": "execute_result"
    }
   ],
   "source": [
    "get_ci_ub(x)"
   ]
  },
  {
   "cell_type": "code",
   "execution_count": 138,
   "id": "efff6e9c",
   "metadata": {},
   "outputs": [
    {
     "data": {
      "text/html": [
       "<div>\n",
       "<style scoped>\n",
       "    .dataframe tbody tr th:only-of-type {\n",
       "        vertical-align: middle;\n",
       "    }\n",
       "\n",
       "    .dataframe tbody tr th {\n",
       "        vertical-align: top;\n",
       "    }\n",
       "\n",
       "    .dataframe thead th {\n",
       "        text-align: right;\n",
       "    }\n",
       "</style>\n",
       "<table border=\"1\" class=\"dataframe\">\n",
       "  <thead>\n",
       "    <tr style=\"text-align: right;\">\n",
       "      <th></th>\n",
       "      <th>mean</th>\n",
       "      <th>std</th>\n",
       "      <th>size</th>\n",
       "    </tr>\n",
       "    <tr>\n",
       "      <th>region</th>\n",
       "      <th></th>\n",
       "      <th></th>\n",
       "      <th></th>\n",
       "    </tr>\n",
       "  </thead>\n",
       "  <tbody>\n",
       "    <tr>\n",
       "      <th>East Asia &amp; Pacific</th>\n",
       "      <td>1235.455300</td>\n",
       "      <td>3660.116639</td>\n",
       "      <td>15056</td>\n",
       "    </tr>\n",
       "    <tr>\n",
       "      <th>Europe &amp; Central Asia</th>\n",
       "      <td>2968.733221</td>\n",
       "      <td>9229.431160</td>\n",
       "      <td>34358</td>\n",
       "    </tr>\n",
       "    <tr>\n",
       "      <th>Latin America &amp; Caribbean</th>\n",
       "      <td>2189.464464</td>\n",
       "      <td>7735.846338</td>\n",
       "      <td>21795</td>\n",
       "    </tr>\n",
       "    <tr>\n",
       "      <th>Middle East &amp; North Africa</th>\n",
       "      <td>1229.900426</td>\n",
       "      <td>3018.473480</td>\n",
       "      <td>14080</td>\n",
       "    </tr>\n",
       "    <tr>\n",
       "      <th>North America(region)</th>\n",
       "      <td>40192.648344</td>\n",
       "      <td>64990.088304</td>\n",
       "      <td>1419</td>\n",
       "    </tr>\n",
       "    <tr>\n",
       "      <th>South Asia</th>\n",
       "      <td>7217.574437</td>\n",
       "      <td>31764.326106</td>\n",
       "      <td>5461</td>\n",
       "    </tr>\n",
       "    <tr>\n",
       "      <th>Sub-Saharan Africa</th>\n",
       "      <td>229.925181</td>\n",
       "      <td>1209.021898</td>\n",
       "      <td>30674</td>\n",
       "    </tr>\n",
       "  </tbody>\n",
       "</table>\n",
       "</div>"
      ],
      "text/plain": [
       "                                    mean           std   size\n",
       "region                                                       \n",
       "East Asia & Pacific          1235.455300   3660.116639  15056\n",
       "Europe & Central Asia        2968.733221   9229.431160  34358\n",
       "Latin America & Caribbean    2189.464464   7735.846338  21795\n",
       "Middle East & North Africa   1229.900426   3018.473480  14080\n",
       "North America(region)       40192.648344  64990.088304   1419\n",
       "South Asia                   7217.574437  31764.326106   5461\n",
       "Sub-Saharan Africa            229.925181   1209.021898  30674"
      ]
     },
     "execution_count": 138,
     "metadata": {},
     "output_type": "execute_result"
    }
   ],
   "source": [
    "stats"
   ]
  },
  {
   "cell_type": "code",
   "execution_count": 139,
   "id": "612409b7",
   "metadata": {},
   "outputs": [
    {
     "data": {
      "text/html": [
       "<div>\n",
       "<style scoped>\n",
       "    .dataframe tbody tr th:only-of-type {\n",
       "        vertical-align: middle;\n",
       "    }\n",
       "\n",
       "    .dataframe tbody tr th {\n",
       "        vertical-align: top;\n",
       "    }\n",
       "\n",
       "    .dataframe thead tr th {\n",
       "        text-align: left;\n",
       "    }\n",
       "\n",
       "    .dataframe thead tr:last-of-type th {\n",
       "        text-align: right;\n",
       "    }\n",
       "</style>\n",
       "<table border=\"1\" class=\"dataframe\">\n",
       "  <thead>\n",
       "    <tr>\n",
       "      <th></th>\n",
       "      <th colspan=\"5\" halign=\"left\">dcases</th>\n",
       "    </tr>\n",
       "    <tr>\n",
       "      <th></th>\n",
       "      <th>mean</th>\n",
       "      <th>std</th>\n",
       "      <th>size</th>\n",
       "      <th>get_ci_lb</th>\n",
       "      <th>get_ci_ub</th>\n",
       "    </tr>\n",
       "    <tr>\n",
       "      <th>region</th>\n",
       "      <th></th>\n",
       "      <th></th>\n",
       "      <th></th>\n",
       "      <th></th>\n",
       "      <th></th>\n",
       "    </tr>\n",
       "  </thead>\n",
       "  <tbody>\n",
       "    <tr>\n",
       "      <th>East Asia &amp; Pacific</th>\n",
       "      <td>1235.455300</td>\n",
       "      <td>3660.116639</td>\n",
       "      <td>15056</td>\n",
       "      <td>1176.986642</td>\n",
       "      <td>1293.923959</td>\n",
       "    </tr>\n",
       "    <tr>\n",
       "      <th>Europe &amp; Central Asia</th>\n",
       "      <td>2968.733221</td>\n",
       "      <td>9229.431160</td>\n",
       "      <td>34358</td>\n",
       "      <td>2871.138935</td>\n",
       "      <td>3066.327506</td>\n",
       "    </tr>\n",
       "    <tr>\n",
       "      <th>Latin America &amp; Caribbean</th>\n",
       "      <td>2189.464464</td>\n",
       "      <td>7735.846338</td>\n",
       "      <td>21795</td>\n",
       "      <td>2086.757094</td>\n",
       "      <td>2292.171834</td>\n",
       "    </tr>\n",
       "    <tr>\n",
       "      <th>Middle East &amp; North Africa</th>\n",
       "      <td>1229.900426</td>\n",
       "      <td>3018.473480</td>\n",
       "      <td>14080</td>\n",
       "      <td>1180.038223</td>\n",
       "      <td>1279.762630</td>\n",
       "    </tr>\n",
       "    <tr>\n",
       "      <th>North America(region)</th>\n",
       "      <td>40192.648344</td>\n",
       "      <td>64990.088304</td>\n",
       "      <td>1419</td>\n",
       "      <td>36808.301426</td>\n",
       "      <td>43576.995262</td>\n",
       "    </tr>\n",
       "    <tr>\n",
       "      <th>South Asia</th>\n",
       "      <td>7217.574437</td>\n",
       "      <td>31764.326106</td>\n",
       "      <td>5461</td>\n",
       "      <td>6374.923064</td>\n",
       "      <td>8060.225810</td>\n",
       "    </tr>\n",
       "    <tr>\n",
       "      <th>Sub-Saharan Africa</th>\n",
       "      <td>229.925181</td>\n",
       "      <td>1209.021898</td>\n",
       "      <td>30674</td>\n",
       "      <td>216.394670</td>\n",
       "      <td>243.455692</td>\n",
       "    </tr>\n",
       "  </tbody>\n",
       "</table>\n",
       "</div>"
      ],
      "text/plain": [
       "                                  dcases                                     \\\n",
       "                                    mean           std   size     get_ci_lb   \n",
       "region                                                                        \n",
       "East Asia & Pacific          1235.455300   3660.116639  15056   1176.986642   \n",
       "Europe & Central Asia        2968.733221   9229.431160  34358   2871.138935   \n",
       "Latin America & Caribbean    2189.464464   7735.846338  21795   2086.757094   \n",
       "Middle East & North Africa   1229.900426   3018.473480  14080   1180.038223   \n",
       "North America(region)       40192.648344  64990.088304   1419  36808.301426   \n",
       "South Asia                   7217.574437  31764.326106   5461   6374.923064   \n",
       "Sub-Saharan Africa            229.925181   1209.021898  30674    216.394670   \n",
       "\n",
       "                                          \n",
       "                               get_ci_ub  \n",
       "region                                    \n",
       "East Asia & Pacific          1293.923959  \n",
       "Europe & Central Asia        3066.327506  \n",
       "Latin America & Caribbean    2292.171834  \n",
       "Middle East & North Africa   1279.762630  \n",
       "North America(region)       43576.995262  \n",
       "South Asia                   8060.225810  \n",
       "Sub-Saharan Africa            243.455692  "
      ]
     },
     "execution_count": 139,
     "metadata": {},
     "output_type": "execute_result"
    }
   ],
   "source": [
    "ci_dcases=statsm=df.groupby(\"region\").agg({\"dcases\": [np.mean, np.std, np.size,get_ci_lb,get_ci_ub]})\n",
    "statsm"
   ]
  },
  {
   "cell_type": "code",
   "execution_count": 140,
   "id": "8dfaefa3",
   "metadata": {},
   "outputs": [
    {
     "data": {
      "text/plain": [
       "Index(['East Asia & Pacific', 'Europe & Central Asia',\n",
       "       'Latin America & Caribbean', 'Middle East & North Africa',\n",
       "       'North America(region)', 'South Asia', 'Sub-Saharan Africa'],\n",
       "      dtype='object', name='region')"
      ]
     },
     "execution_count": 140,
     "metadata": {},
     "output_type": "execute_result"
    }
   ],
   "source": [
    "statsm.index"
   ]
  },
  {
   "cell_type": "code",
   "execution_count": 141,
   "id": "85d66b90",
   "metadata": {},
   "outputs": [],
   "source": [
    "statsm.columns=['mean','std','size','lb','ub']"
   ]
  },
  {
   "cell_type": "code",
   "execution_count": 142,
   "id": "7b49764b",
   "metadata": {},
   "outputs": [],
   "source": [
    "statsm['region']=statsm.index"
   ]
  },
  {
   "cell_type": "code",
   "execution_count": 143,
   "id": "d2c95981",
   "metadata": {},
   "outputs": [
    {
     "data": {
      "image/png": "[encoded data removed]",
      "text/plain": [
       "<Figure size 432x288 with 1 Axes>"
      ]
     },
     "metadata": {
      "needs_background": "light"
     },
     "output_type": "display_data"
    }
   ],
   "source": [
    "plt.plot( 'region', 'mean', data=statsm, marker='s', color='black', markersize=4,     linewidth=1, linestyle='--')\n",
    "plt.plot( 'region', 'mean', data=statsm, marker='o', color='black',  markersize=4, linewidth=1,linestyle='-')\n",
    "plt.xlabel(\"Region\")\n",
    "plt.ylabel(\"Average Daily COVID CASES\")\n",
    "plt.show()"
   ]
  },
  {
   "cell_type": "markdown",
   "id": "eacfdab0",
   "metadata": {},
   "source": [
    "Statistical Analysis of the Novel CoronaVirus (COVID 19) in 187 Different Countries according to continent."
   ]
  },
  {
   "cell_type": "code",
   "execution_count": 144,
   "id": "a33b28ad",
   "metadata": {},
   "outputs": [
    {
     "data": {
      "text/plain": [
       "array(['Asia', 'Africa', 'Europe', 'South America(continent)',\n",
       "       'North America(continent)', 'Oceania'], dtype=object)"
      ]
     },
     "execution_count": 144,
     "metadata": {},
     "output_type": "execute_result"
    }
   ],
   "source": [
    "df['continent'].unique()"
   ]
  },
  {
   "cell_type": "code",
   "execution_count": 145,
   "id": "c2dfa6f2",
   "metadata": {},
   "outputs": [],
   "source": [
    "from pandas.api.types import CategoricalDtype\n",
    "cats=['Asia', 'Africa', 'Europe', 'South America(continent)',\n",
    "       'North America(continent)', 'Oceania']\n",
    "cat_type = CategoricalDtype(categories=cats, ordered=True)\n",
    "df['continent'] = df['continent'].astype(cat_type)"
   ]
  },
  {
   "cell_type": "code",
   "execution_count": 146,
   "id": "7aed4413",
   "metadata": {},
   "outputs": [],
   "source": [
    "stats=df.groupby(\"continent\").agg({\"dcases\": [np.mean, np.std, np.size]})"
   ]
  },
  {
   "cell_type": "code",
   "execution_count": 147,
   "id": "65534689",
   "metadata": {},
   "outputs": [],
   "source": [
    "stats=pd.DataFrame(stats)"
   ]
  },
  {
   "cell_type": "code",
   "execution_count": 148,
   "id": "0965f5d5",
   "metadata": {},
   "outputs": [],
   "source": [
    "stats.columns=['mean','std','size']"
   ]
  },
  {
   "cell_type": "code",
   "execution_count": 149,
   "id": "dfda73b3",
   "metadata": {},
   "outputs": [],
   "source": [
    "x=df['dcases']"
   ]
  },
  {
   "cell_type": "code",
   "execution_count": 150,
   "id": "2ef66308",
   "metadata": {},
   "outputs": [
    {
     "data": {
      "text/plain": [
       "2285.1835480837417"
      ]
     },
     "execution_count": 150,
     "metadata": {},
     "output_type": "execute_result"
    }
   ],
   "source": [
    "get_ci_lb(x)"
   ]
  },
  {
   "cell_type": "code",
   "execution_count": 151,
   "id": "2613ec15",
   "metadata": {},
   "outputs": [
    {
     "data": {
      "text/plain": [
       "2422.2624439548763"
      ]
     },
     "execution_count": 151,
     "metadata": {},
     "output_type": "execute_result"
    }
   ],
   "source": [
    "get_ci_ub(x)"
   ]
  },
  {
   "cell_type": "code",
   "execution_count": 152,
   "id": "e7090869",
   "metadata": {},
   "outputs": [
    {
     "data": {
      "text/html": [
       "<div>\n",
       "<style scoped>\n",
       "    .dataframe tbody tr th:only-of-type {\n",
       "        vertical-align: middle;\n",
       "    }\n",
       "\n",
       "    .dataframe tbody tr th {\n",
       "        vertical-align: top;\n",
       "    }\n",
       "\n",
       "    .dataframe thead tr th {\n",
       "        text-align: left;\n",
       "    }\n",
       "\n",
       "    .dataframe thead tr:last-of-type th {\n",
       "        text-align: right;\n",
       "    }\n",
       "</style>\n",
       "<table border=\"1\" class=\"dataframe\">\n",
       "  <thead>\n",
       "    <tr>\n",
       "      <th></th>\n",
       "      <th colspan=\"5\" halign=\"left\">dcases</th>\n",
       "    </tr>\n",
       "    <tr>\n",
       "      <th></th>\n",
       "      <th>mean</th>\n",
       "      <th>std</th>\n",
       "      <th>size</th>\n",
       "      <th>get_ci_lb</th>\n",
       "      <th>get_ci_ub</th>\n",
       "    </tr>\n",
       "    <tr>\n",
       "      <th>continent</th>\n",
       "      <th></th>\n",
       "      <th></th>\n",
       "      <th></th>\n",
       "      <th></th>\n",
       "      <th></th>\n",
       "    </tr>\n",
       "  </thead>\n",
       "  <tbody>\n",
       "    <tr>\n",
       "      <th>Asia</th>\n",
       "      <td>2737.172363</td>\n",
       "      <td>14837.219583</td>\n",
       "      <td>31103</td>\n",
       "      <td>2572.273988</td>\n",
       "      <td>2902.070738</td>\n",
       "    </tr>\n",
       "    <tr>\n",
       "      <th>Africa</th>\n",
       "      <td>281.135046</td>\n",
       "      <td>1216.728958</td>\n",
       "      <td>34677</td>\n",
       "      <td>268.328373</td>\n",
       "      <td>293.941720</td>\n",
       "    </tr>\n",
       "    <tr>\n",
       "      <th>Europe</th>\n",
       "      <td>3057.185788</td>\n",
       "      <td>8359.453286</td>\n",
       "      <td>29103</td>\n",
       "      <td>2961.140702</td>\n",
       "      <td>3153.230874</td>\n",
       "    </tr>\n",
       "    <tr>\n",
       "      <th>South America(continent)</th>\n",
       "      <td>4984.799750</td>\n",
       "      <td>12038.929053</td>\n",
       "      <td>7985</td>\n",
       "      <td>4720.702226</td>\n",
       "      <td>5248.897273</td>\n",
       "    </tr>\n",
       "    <tr>\n",
       "      <th>North America(continent)</th>\n",
       "      <td>4264.831571</td>\n",
       "      <td>23002.941471</td>\n",
       "      <td>15229</td>\n",
       "      <td>3899.463753</td>\n",
       "      <td>4630.199390</td>\n",
       "    </tr>\n",
       "    <tr>\n",
       "      <th>Oceania</th>\n",
       "      <td>111.499789</td>\n",
       "      <td>902.839832</td>\n",
       "      <td>4746</td>\n",
       "      <td>85.807327</td>\n",
       "      <td>137.192252</td>\n",
       "    </tr>\n",
       "  </tbody>\n",
       "</table>\n",
       "</div>"
      ],
      "text/plain": [
       "                               dcases                                    \\\n",
       "                                 mean           std   size    get_ci_lb   \n",
       "continent                                                                 \n",
       "Asia                      2737.172363  14837.219583  31103  2572.273988   \n",
       "Africa                     281.135046   1216.728958  34677   268.328373   \n",
       "Europe                    3057.185788   8359.453286  29103  2961.140702   \n",
       "South America(continent)  4984.799750  12038.929053   7985  4720.702226   \n",
       "North America(continent)  4264.831571  23002.941471  15229  3899.463753   \n",
       "Oceania                    111.499789    902.839832   4746    85.807327   \n",
       "\n",
       "                                       \n",
       "                            get_ci_ub  \n",
       "continent                              \n",
       "Asia                      2902.070738  \n",
       "Africa                     293.941720  \n",
       "Europe                    3153.230874  \n",
       "South America(continent)  5248.897273  \n",
       "North America(continent)  4630.199390  \n",
       "Oceania                    137.192252  "
      ]
     },
     "execution_count": 152,
     "metadata": {},
     "output_type": "execute_result"
    }
   ],
   "source": [
    "ci_dcases=statsm=df.groupby(\"continent\").agg({\"dcases\": [np.mean, np.std, np.size,get_ci_lb,get_ci_ub]})\n",
    "statsm"
   ]
  },
  {
   "cell_type": "code",
   "execution_count": 153,
   "id": "88f250ce",
   "metadata": {},
   "outputs": [
    {
     "data": {
      "text/plain": [
       "CategoricalIndex(['Asia', 'Africa', 'Europe', 'South America(continent)',\n",
       "                  'North America(continent)', 'Oceania'],\n",
       "                 categories=['Asia', 'Africa', 'Europe', 'South America(continent)', 'North America(continent)', 'Oceania'], ordered=True, dtype='category', name='continent')"
      ]
     },
     "execution_count": 153,
     "metadata": {},
     "output_type": "execute_result"
    }
   ],
   "source": [
    "statsm.index"
   ]
  },
  {
   "cell_type": "code",
   "execution_count": 154,
   "id": "9dfe219e",
   "metadata": {},
   "outputs": [],
   "source": [
    "statsm.columns=['mean','std','size','lb','ub']"
   ]
  },
  {
   "cell_type": "code",
   "execution_count": 155,
   "id": "258f69de",
   "metadata": {},
   "outputs": [],
   "source": [
    "statsm['continent']=statsm.index"
   ]
  },
  {
   "cell_type": "code",
   "execution_count": 156,
   "id": "cbd42c9e",
   "metadata": {},
   "outputs": [
    {
     "data": {
      "image/png": "[encoded data removed]",
      "text/plain": [
       "<Figure size 432x288 with 1 Axes>"
      ]
     },
     "metadata": {
      "needs_background": "light"
     },
     "output_type": "display_data"
    }
   ],
   "source": [
    "plt.plot( 'continent', 'mean', data=statsm, marker='s', color='black', markersize=4,     linewidth=1, linestyle='--')\n",
    "plt.plot( 'continent', 'mean', data=statsm, marker='o', color='black',  markersize=4, linewidth=1,linestyle='-')\n",
    "plt.xlabel(\"Continent\")\n",
    "plt.ylabel(\"Average Daily COVID CASES\")\n",
    "plt.show()"
   ]
  },
  {
   "cell_type": "markdown",
   "id": "ce0ebe6c",
   "metadata": {},
   "source": [
    "Question 4: Description of results and conclusion"
   ]
  },
  {
   "cell_type": "markdown",
   "id": "2b02e13c",
   "metadata": {},
   "source": [
    "In Italy at the beginning of 2020, not many COVID-19 cases were reported as the virus hadn't spread yet. Then at September, the first spike of increase occured were a sudden increase of COVID-19 cases could be observed till November. Then there is a drop in COVID-19 cases, maybe due to the restrictions and quarantine the country's goverment had imposed there is seen such a drop in cases. At the beginning of 2021 cases were still decreasing till February, maybe because citizens got bored from quarantine and no longer abided by the rules, there is a seen increase in cases again. It is observed that 3 main waves of increase in COVID-19 cases occured during 2021. The first one from February to March, the second from June to August and the third from October to December. These different waves could show the emergance of new variants like the emergance of Omicron variant was in November 2021 and the graph shows a spike starting from November 2021, and this variant has high spreading rate and therfore there is scene a big spike and a high increase in number of cases."
   ]
  },
  {
   "cell_type": "markdown",
   "id": "5c5ed013",
   "metadata": {},
   "source": [
    "Comparing income: It is observed that the higher the income in countries the higher the average daily cases. High income countries have a large number of deaths compared to low income countries, it may be because developed countries have older populations than poor countries. Also another reason might be that reporting cases in poor countries is much less than the actual number of existing cases due to their poor healthcare systems and so no enough testing kits or testing mechanisms are too expensive for them. Therefore reporting cases might be ineffiecient in undeveloped countries while in developed countries, reporting is much more as they have a better healthcare system and a stronger reporting system and that's why numbers show that higher income countries have higher numbers of cases."
   ]
  },
  {
   "cell_type": "markdown",
   "id": "073e5a32",
   "metadata": {},
   "source": [
    "Comparing regions: COVID-19 affects elders the most as they usually have the weakest immune system than other ages to fight the disease. North America has the highest mean of deaths and daily cases , it may be because it has a population that skews considerably older than the global average and is considered the second oldest population worldwide. It has a median age of 39, almost eight years older than the global median. Sub-Saharan Africa has the least number of daily cases maybe because this region has a higher average temperature so the weather is warmer so the disease spreads less in warmer weather. The disease spreads more in cold weather among coughing and sneezing frequently. Another reason might be that Sub-Saharan African countries might have less developed healthcare systems and therefore less COVID-19 testing kits/mechanisms and therefore less reported cases. Lastly, more outsiders/travellers travel and enter North America that Sub-Saharan African countries and so maybe virus from outside countries spread more in North America due to the higher number of outsiders enetering the country and possibly having diseases."
   ]
  },
  {
   "cell_type": "markdown",
   "id": "c75003da",
   "metadata": {},
   "source": [
    "Comparing continents: Oceania has the lowest number of daily reported cases and deaths maybe because it has the least population than all other continents (has 0.54% of the total world population) and therefore less people getting affected and less number of reported cases."
   ]
  }
 ],
 "metadata": {
  "kernelspec": {
   "display_name": "Python 3 (ipykernel)",
   "language": "python",
   "name": "python3"
  },
  "language_info": {
   "codemirror_mode": {
    "name": "ipython",
    "version": 3
   },
   "file_extension": ".py",
   "mimetype": "text/x-python",
   "name": "python",
   "nbconvert_exporter": "python",
   "pygments_lexer": "ipython3",
   "version": "3.9.7"
  }
 },
 "nbformat": 4,
 "nbformat_minor": 5
}
